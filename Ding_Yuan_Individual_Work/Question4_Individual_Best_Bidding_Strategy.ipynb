{
 "cells": [
  {
   "cell_type": "code",
   "execution_count": 1,
   "metadata": {
    "collapsed": true
   },
   "outputs": [],
   "source": [
    "import math\n",
    "import numpy as np\n",
    "import pandas as pd\n",
    "import matplotlib.pyplot as plt\n",
    "import scipy.stats as stats\n",
    "import seaborn as sns\n",
    "\n",
    "from sklearn.feature_extraction.text import CountVectorizer\n",
    "from sklearn.linear_model import LogisticRegression\n",
    "from sklearn.ensemble import RandomForestClassifier, ExtraTreesClassifier, BaggingClassifier\n",
    "from collections import Counter\n",
    "from sklearn.metrics import roc_auc_score, mean_squared_error\n",
    "from sklearn.model_selection import train_test_split\n",
    "from sklearn.metrics import confusion_matrix\n",
    "\n",
    "import xgboost as xgb #Gradient boosting\n",
    "\n",
    "from xgboost import XGBClassifier\n",
    "from sklearn.feature_selection import SelectFromModel #model selection\n",
    "from sklearn.metrics import accuracy_score #model testing\n",
    "import matplotlib.mlab as mlab  "
   ]
  },
  {
   "cell_type": "code",
   "execution_count": 2,
   "metadata": {
    "collapsed": true
   },
   "outputs": [],
   "source": [
    "train = pd.read_csv(\"/Users/dingding/Desktop/we_data/train.csv\")\n",
    "validation = pd.read_csv(\"/Users/dingding/Desktop/we_data/validation.csv\")\n",
    "test=pd.read_csv('/Users/dingding/Desktop/we_data/test.csv')"
   ]
  },
  {
   "cell_type": "markdown",
   "metadata": {},
   "source": [
    "# Preprocess Data"
   ]
  },
  {
   "cell_type": "code",
   "execution_count": 3,
   "metadata": {
    "collapsed": true
   },
   "outputs": [],
   "source": [
    "def preprocessData(data):\n",
    "    click=data['click']\n",
    "    weekday=pd.get_dummies(data['weekday'],prefix='weekday_')\n",
    "    hour=pd.get_dummies(data['hour'],prefix='hour_')\n",
    "    useragent=pd.get_dummies(data['useragent'],prefix='useragent_')\n",
    "    region=pd.get_dummies(data['region'],prefix='region_')\n",
    "    city=pd.get_dummies(data['city'],prefix='city_')\n",
    "    adexchange=pd.get_dummies(data['adexchange'],prefix='adexchange_')\n",
    "    slotwidth=pd.get_dummies(data['slotwidth'],prefix='slotwidth_')\n",
    "    slotheight=pd.get_dummies(data['slotheight'],prefix='slotheight_')\n",
    "    slotvisibility=pd.get_dummies(data['slotvisibility'],prefix='slotvisibility_')\n",
    "    slotformat=pd.get_dummies(data['slotformat'],prefix='slotformat_')\n",
    "    slotprice=data['slotprice']\n",
    "    creative=pd.get_dummies(data['creative'],prefix='creative_')\n",
    "    keypage=pd.get_dummies(data['keypage'],prefix='keypage_')\n",
    "    advertiser=pd.get_dummies(data['advertiser'],prefix='advertiser_')\n",
    "    \n",
    "    data_usertag=data.usertag.fillna('0')\n",
    "    data_usertag=data_usertag.str.replace(',',' ')\n",
    "    vect=CountVectorizer()\n",
    "    data_usertag_vect=vect.fit_transform(data_usertag)\n",
    "    usertag=pd.DataFrame(data_usertag_vect.toarray(),columns=vect.get_feature_names())\n",
    "    \n",
    "    newdata=pd.concat([click,weekday,hour,useragent,region,city,adexchange,\\\n",
    "                       slotwidth,slotheight,slotvisibility,slotformat,\\\n",
    "                       slotprice,creative,keypage,advertiser,usertag],axis=1)\n",
    "    \n",
    "    return newdata"
   ]
  },
  {
   "cell_type": "code",
   "execution_count": 4,
   "metadata": {
    "collapsed": true
   },
   "outputs": [],
   "source": [
    "def preprocessTestData(data):\n",
    "    weekday=pd.get_dummies(data['weekday'],prefix='weekday_')\n",
    "    hour=pd.get_dummies(data['hour'],prefix='hour_')\n",
    "    useragent=pd.get_dummies(data['useragent'],prefix='useragent_')\n",
    "    region=pd.get_dummies(data['region'],prefix='region_')\n",
    "    city=pd.get_dummies(data['city'],prefix='city_')\n",
    "    adexchange=pd.get_dummies(data['adexchange'],prefix='adexchange_')\n",
    "    slotwidth=pd.get_dummies(data['slotwidth'],prefix='slotwidth_')\n",
    "    slotheight=pd.get_dummies(data['slotheight'],prefix='slotheight_')\n",
    "    slotvisibility=pd.get_dummies(data['slotvisibility'],prefix='slotvisibility_')\n",
    "    slotformat=pd.get_dummies(data['slotformat'],prefix='slotformat_')\n",
    "    slotprice=data['slotprice']\n",
    "    creative=pd.get_dummies(data['creative'],prefix='creative_')\n",
    "    keypage=pd.get_dummies(data['keypage'],prefix='keypage_')\n",
    "    advertiser=pd.get_dummies(data['advertiser'],prefix='advertiser_')\n",
    "    \n",
    "    data_usertag=data.usertag.fillna('0')\n",
    "    data_usertag=data_usertag.str.replace(',',' ')\n",
    "    vect=CountVectorizer()\n",
    "    data_usertag_vect=vect.fit_transform(data_usertag)\n",
    "    usertag=pd.DataFrame(data_usertag_vect.toarray(),columns=vect.get_feature_names())\n",
    "    \n",
    "    newdata=pd.concat([weekday,hour,useragent,region,city,adexchange,\\\n",
    "                       slotwidth,slotheight,slotvisibility,slotformat,\\\n",
    "                       slotprice,creative,keypage,advertiser,usertag],axis=1)\n",
    "    \n",
    "    return newdata"
   ]
  },
  {
   "cell_type": "code",
   "execution_count": 5,
   "metadata": {
    "collapsed": true,
    "scrolled": false
   },
   "outputs": [],
   "source": [
    "train_processed=preprocessData(train)"
   ]
  },
  {
   "cell_type": "code",
   "execution_count": 6,
   "metadata": {
    "collapsed": true
   },
   "outputs": [],
   "source": [
    "validation_processed=preprocessData(validation)"
   ]
  },
  {
   "cell_type": "code",
   "execution_count": 7,
   "metadata": {
    "collapsed": true
   },
   "outputs": [],
   "source": [
    "test_processed=preprocessTestData(test)"
   ]
  },
  {
   "cell_type": "code",
   "execution_count": 8,
   "metadata": {},
   "outputs": [
    {
     "name": "stdout",
     "output_type": "stream",
     "text": [
      "Number of features in processed training set 756\n",
      "Number of features in processed validation set 751\n",
      "Number of features in processed test set 748\n"
     ]
    }
   ],
   "source": [
    "print('Number of features in processed training set',len(train_processed.columns))\n",
    "print('Number of features in processed validation set',len(validation_processed.columns))\n",
    "print('Number of features in processed test set',len(test_processed.columns))"
   ]
  },
  {
   "cell_type": "code",
   "execution_count": 9,
   "metadata": {
    "collapsed": true
   },
   "outputs": [],
   "source": [
    "train_features=list(train_processed)\n",
    "validation_features=list(validation_processed)\n",
    "test_features=list(test_processed)"
   ]
  },
  {
   "cell_type": "code",
   "execution_count": 10,
   "metadata": {},
   "outputs": [
    {
     "name": "stdout",
     "output_type": "stream",
     "text": [
      "['useragent__android_ie', 'creative__7324', 'useragent__other_firefox', 'creative__7332', 'useragent__android_maxthon']\n",
      "[]\n",
      "['click', 'creative__7324', 'useragent__mac_sogou', 'useragent__linux_ie', 'useragent__other_firefox', 'creative__7327', 'useragent__mac_maxthon', 'useragent__android_ie']\n",
      "[]\n"
     ]
    }
   ],
   "source": [
    "print(list(set(train_features)-set(validation_features)))\n",
    "print(list(set(validation_features)-set(train_features)))\n",
    "print(list(set(train_features)-set(test_features)))\n",
    "print(list(set(test_features)-set(train_features)))"
   ]
  },
  {
   "cell_type": "code",
   "execution_count": 11,
   "metadata": {
    "collapsed": true
   },
   "outputs": [],
   "source": [
    "remove_features=['click', 'useragent__android_maxthon', 'useragent__linux_ie', 'creative__7324', 'useragent__other_firefox',\\\n",
    "                 'creative__7332', 'creative__7327', 'useragent__android_ie', 'useragent__mac_sogou', 'useragent__mac_maxthon']\n",
    "feature=[]\n",
    "for i in train_features:\n",
    "    if(i not in remove_features):\n",
    "        feature.append(i)"
   ]
  },
  {
   "cell_type": "code",
   "execution_count": 12,
   "metadata": {},
   "outputs": [
    {
     "data": {
      "text/plain": [
       "746"
      ]
     },
     "execution_count": 12,
     "metadata": {},
     "output_type": "execute_result"
    }
   ],
   "source": [
    "len(feature)"
   ]
  },
  {
   "cell_type": "code",
   "execution_count": 13,
   "metadata": {},
   "outputs": [
    {
     "name": "stdout",
     "output_type": "stream",
     "text": [
      "[]\n",
      "['useragent__mac_sogou', 'useragent__linux_ie', 'click', 'useragent__mac_maxthon', 'creative__7327']\n",
      "[]\n",
      "['creative__7332', 'useragent__android_maxthon']\n"
     ]
    }
   ],
   "source": [
    "print(list(set(feature)-set(validation_features)))\n",
    "print(list(set(validation_features)-set(feature)))\n",
    "print(list(set(feature)-set(test_features)))\n",
    "print(list(set(test_features)-set(feature)))"
   ]
  },
  {
   "cell_type": "code",
   "execution_count": 14,
   "metadata": {
    "scrolled": false
   },
   "outputs": [
    {
     "data": {
      "text/plain": [
       "0    2429188\n",
       "1       1793\n",
       "Name: click, dtype: int64"
      ]
     },
     "execution_count": 14,
     "metadata": {},
     "output_type": "execute_result"
    }
   ],
   "source": [
    "train_processed.click.value_counts()"
   ]
  },
  {
   "cell_type": "code",
   "execution_count": 15,
   "metadata": {},
   "outputs": [
    {
     "data": {
      "text/plain": [
       "0    303723\n",
       "1       202\n",
       "Name: click, dtype: int64"
      ]
     },
     "execution_count": 15,
     "metadata": {},
     "output_type": "execute_result"
    }
   ],
   "source": [
    "validation.click.value_counts()"
   ]
  },
  {
   "cell_type": "markdown",
   "metadata": {},
   "source": [
    "# Train Model"
   ]
  },
  {
   "cell_type": "code",
   "execution_count": 16,
   "metadata": {
    "collapsed": true
   },
   "outputs": [],
   "source": [
    "downsampling_rate=0.025"
   ]
  },
  {
   "cell_type": "code",
   "execution_count": 17,
   "metadata": {
    "collapsed": true
   },
   "outputs": [],
   "source": [
    "train_not_clicked = train_processed[train_processed.click == 0].sample(n= round(downsampling_rate*2429188), random_state = 2)\n",
    "train_clicked = train_processed[train_processed.click == 1]\n",
    "train_sample = pd.concat([train_clicked,train_not_clicked],0)"
   ]
  },
  {
   "cell_type": "code",
   "execution_count": 18,
   "metadata": {
    "collapsed": true
   },
   "outputs": [],
   "source": [
    "train_set=train_sample[feature]\n",
    "train_label=train_sample['click']\n",
    "validation_set=validation_processed[feature]\n",
    "validation_label=validation_processed['click']\n"
   ]
  },
  {
   "cell_type": "code",
   "execution_count": 19,
   "metadata": {
    "collapsed": true
   },
   "outputs": [],
   "source": [
    "test_set=test_processed[feature]"
   ]
  },
  {
   "cell_type": "markdown",
   "metadata": {},
   "source": [
    "# Choose a better classfier model through comparing AUC"
   ]
  },
  {
   "cell_type": "code",
   "execution_count": 20,
   "metadata": {},
   "outputs": [
    {
     "name": "stderr",
     "output_type": "stream",
     "text": [
      "/Users/dingding/anaconda/lib/python3.5/site-packages/sklearn/cross_validation.py:41: DeprecationWarning: This module was deprecated in version 0.18 in favor of the model_selection module into which all the refactored classes and functions are moved. Also note that the interface of the new CV iterators are different from that of this module. This module will be removed in 0.20.\n",
      "  \"This module will be removed in 0.20.\", DeprecationWarning)\n"
     ]
    }
   ],
   "source": [
    "import matplotlib.pyplot as plt\n",
    "import seaborn as sns\n",
    "import numpy as np\n",
    "from sklearn.cross_validation import StratifiedKFold, train_test_split\n",
    "from sklearn.model_selection import StratifiedShuffleSplit\n",
    "from sklearn.metrics import accuracy_score, log_loss\n",
    "from sklearn.neighbors import KNeighborsClassifier\n",
    "from sklearn.svm import SVC\n",
    "from sklearn.tree import DecisionTreeClassifier\n",
    "from sklearn.ensemble import RandomForestClassifier, AdaBoostClassifier, GradientBoostingClassifier\n",
    "from sklearn.naive_bayes import GaussianNB\n",
    "from sklearn.discriminant_analysis import LinearDiscriminantAnalysis, QuadraticDiscriminantAnalysis\n",
    "from sklearn.linear_model import LogisticRegression"
   ]
  },
  {
   "cell_type": "code",
   "execution_count": 109,
   "metadata": {},
   "outputs": [
    {
     "name": "stderr",
     "output_type": "stream",
     "text": [
      "/Users/dingding/anaconda/lib/python3.5/site-packages/sklearn/discriminant_analysis.py:388: UserWarning: Variables are collinear.\n",
      "  warnings.warn(\"Variables are collinear.\")\n",
      "/Users/dingding/anaconda/lib/python3.5/site-packages/sklearn/discriminant_analysis.py:682: UserWarning: Variables are collinear\n",
      "  warnings.warn(\"Variables are collinear\")\n",
      "/Users/dingding/anaconda/lib/python3.5/site-packages/seaborn/categorical.py:1428: FutureWarning: remove_na is deprecated and is a private function. Do not use.\n",
      "  stat_data = remove_na(group_data)\n"
     ]
    },
    {
     "data": {
      "image/png": "[encoded data removed]",
      "text/plain": [
       "<matplotlib.figure.Figure at 0x1a174d1b00>"
      ]
     },
     "metadata": {},
     "output_type": "display_data"
    }
   ],
   "source": [
    "classifiers = [\n",
    "    XGBClassifier(),\n",
    "    DecisionTreeClassifier(),\n",
    "    RandomForestClassifier(),\n",
    "    AdaBoostClassifier(),\n",
    "    GradientBoostingClassifier(),\n",
    "    GaussianNB(),\n",
    "    LinearDiscriminantAnalysis(),\n",
    "    QuadraticDiscriminantAnalysis(),\n",
    "    LogisticRegression()]\n",
    "\n",
    "log_cols = [\"Classifier\", \"Accuracy\"]\n",
    "log = pd.DataFrame(columns=log_cols)\n",
    "\n",
    "sss = StratifiedShuffleSplit(n_splits=10, test_size=0.1, random_state=0)\n",
    "\n",
    "\n",
    "\n",
    "acc_dict = {}\n",
    "\n",
    "X_train, X_test, y_train, y_test = train_test_split(train_set,train_label,test_size=0.33, random_state=42)\n",
    "\n",
    "\n",
    "for clf in classifiers:\n",
    "    name = clf.__class__.__name__\n",
    "    clf.fit(X_train, y_train)\n",
    "    train_predictions = clf.predict(X_test)\n",
    "    acc = accuracy_score(y_test, train_predictions)\n",
    "    if name in acc_dict:\n",
    "        acc_dict[name] += acc\n",
    "    else:\n",
    "        acc_dict[name] = acc\n",
    "\n",
    "for clf in acc_dict:\n",
    "    acc_dict[clf] = acc_dict[clf] / 10.0\n",
    "    log_entry = pd.DataFrame([[clf, acc_dict[clf]]], columns=log_cols)\n",
    "    log = log.append(log_entry)\n",
    "\n",
    "plt.xlabel('Accuracy')\n",
    "plt.title('Classifier Accuracy')\n",
    "\n",
    "sns.set_color_codes(\"muted\")\n",
    "sns.barplot(x='Accuracy', y='Classifier', data=log, color=\"b\")\n",
    "plt.show()"
   ]
  },
  {
   "cell_type": "markdown",
   "metadata": {},
   "source": [
    "# Tuning the parameter for GDBT and XGboost"
   ]
  },
  {
   "cell_type": "code",
   "execution_count": 21,
   "metadata": {
    "collapsed": true
   },
   "outputs": [],
   "source": [
    "def modelfit(alg, dtrain, predictors, performCV=True, printFeatureImportance=True, cv_folds=5):\n",
    "    #Fit the algorithm on the data\n",
    "    alg.fit(dtrain[predictors], dtrain['click'])\n",
    "        \n",
    "    #Predict training set:\n",
    "    dtrain_predictions = alg.predict(dtrain[predictors])\n",
    "    dtrain_predprob = alg.predict_proba(dtrain[predictors])[:,1]\n",
    "    #Print Feature Importance:\n",
    "    if performCV and printFeatureImportance: \n",
    "        \n",
    "        cv_score = cross_validation.cross_val_score(alg, dtrain[predictors], dtrain['click'], cv=cv_folds, scoring='roc_auc')\n",
    "        print (\"CV Score : Mean - %.7g | Std - %.7g | Min - %.7g | Max - %.7g\" % (np.mean(cv_score),np.std(cv_score),np.min(cv_score),np.max(cv_score)))\n",
    "        feat_imp = pd.Series(alg.feature_importances_, predictors).sort_values(ascending=False)\n",
    "        feat_imp.plot(kind='bar', title='Feature Importances')\n",
    "        plt.ylabel('Feature Importance Score')\n",
    "       \n",
    "        \n",
    "    #Perform cross-validation:\n",
    "    #if performCV:\n",
    "        \n",
    "    \n",
    "    #Print model report:\n",
    "    print (\"\\nModel Report\")\n",
    "    print (\"Accuracy : %.4g\" % metrics.accuracy_score(dtrain['click'].values, dtrain_predictions))\n",
    "    print (\"AUC Score (Train): %f\" % metrics.roc_auc_score(dtrain['click'], dtrain_predprob))\n",
    "    \n",
    "    \n",
    "        \n",
    "    "
   ]
  },
  {
   "cell_type": "code",
   "execution_count": 22,
   "metadata": {},
   "outputs": [
    {
     "name": "stderr",
     "output_type": "stream",
     "text": [
      "/Users/dingding/anaconda/lib/python3.5/site-packages/sklearn/grid_search.py:42: DeprecationWarning: This module was deprecated in version 0.18 in favor of the model_selection module into which all the refactored classes and functions are moved. This module will be removed in 0.20.\n",
      "  DeprecationWarning)\n"
     ]
    }
   ],
   "source": [
    "import pandas as pd\n",
    "import numpy as np\n",
    "from sklearn.ensemble import GradientBoostingClassifier  #GBM algorithm\n",
    "from sklearn import cross_validation, metrics   #Additional scklearn functions\n",
    "from sklearn.grid_search import GridSearchCV   #Perforing grid search\n",
    "\n",
    "from sklearn.cross_validation import KFold\n",
    "\n",
    "from sklearn.cross_validation import StratifiedKFold"
   ]
  },
  {
   "cell_type": "code",
   "execution_count": 112,
   "metadata": {},
   "outputs": [
    {
     "name": "stdout",
     "output_type": "stream",
     "text": [
      "CV Score : Mean - 0.853859 | Std - 0.006320841 | Min - 0.8459125 | Max - 0.8636338\n",
      "\n",
      "Model Report\n",
      "Accuracy : 0.9799\n",
      "AUC Score (Train): 0.875726\n"
     ]
    }
   ],
   "source": [
    "target = 'click'\n",
    "IDcol = 'click'\n",
    "predictors = [x for x in train_sample.columns if x not in [target, IDcol]]\n",
    "gbm0 = XGBClassifier(random_state=10)\n",
    "modelfit(gbm0, train_sample, predictors)"
   ]
  },
  {
   "cell_type": "markdown",
   "metadata": {},
   "source": [
    "## Tune the n estimoators"
   ]
  },
  {
   "cell_type": "code",
   "execution_count": 113,
   "metadata": {},
   "outputs": [
    {
     "data": {
      "text/plain": [
       "GridSearchCV(cv=5, error_score='raise',\n",
       "       estimator=XGBClassifier(base_score=0.5, booster='gbtree', colsample_bylevel=1,\n",
       "       colsample_bytree=1, gamma=0, learning_rate=0.1, max_delta_step=0,\n",
       "       max_depth=8, max_features='sqrt', min_child_weight=1,\n",
       "       min_samples_leaf=50, min_samples_split=500, missing=None,\n",
       "       n_estimators=100, n_jobs=1, nthread=None,\n",
       "       objective='binary:logistic', random_state=10, reg_alpha=0,\n",
       "       reg_lambda=1, scale_pos_weight=1, seed=None, silent=True,\n",
       "       subsample=0.8),\n",
       "       fit_params={}, iid=False, n_jobs=4,\n",
       "       param_grid={'n_estimators': [50, 75, 100, 125, 150, 175]},\n",
       "       pre_dispatch='2*n_jobs', refit=True, scoring='roc_auc', verbose=0)"
      ]
     },
     "execution_count": 113,
     "metadata": {},
     "output_type": "execute_result"
    }
   ],
   "source": [
    "predictors = [x for x in train_sample.columns if x not in [target, IDcol]]\n",
    "param_test1 = {'n_estimators':list(range(50,200,25))}\n",
    "gsearch1 = GridSearchCV(estimator = XGBClassifier(learning_rate=0.1, min_samples_split=500,min_samples_leaf=50,max_depth=8,max_features='sqrt',subsample=0.8,random_state=10),param_grid = param_test1,scoring='roc_auc',n_jobs=4,iid=False, cv=5)\n",
    "\n",
    "gsearch1.fit(train_set,train_label)"
   ]
  },
  {
   "cell_type": "code",
   "execution_count": 115,
   "metadata": {},
   "outputs": [
    {
     "data": {
      "text/plain": [
       "([mean: 0.86786, std: 0.00516, params: {'n_estimators': 50},\n",
       "  mean: 0.86694, std: 0.00366, params: {'n_estimators': 75},\n",
       "  mean: 0.86614, std: 0.00359, params: {'n_estimators': 100},\n",
       "  mean: 0.86517, std: 0.00425, params: {'n_estimators': 125},\n",
       "  mean: 0.86425, std: 0.00430, params: {'n_estimators': 150},\n",
       "  mean: 0.86318, std: 0.00529, params: {'n_estimators': 175}],\n",
       " {'n_estimators': 50},\n",
       " 0.8678552070268413)"
      ]
     },
     "execution_count": 115,
     "metadata": {},
     "output_type": "execute_result"
    }
   ],
   "source": [
    "gsearch1.grid_scores_, gsearch1.best_params_, gsearch1.best_score_"
   ]
  },
  {
   "cell_type": "markdown",
   "metadata": {},
   "source": [
    "## Tune max depth number "
   ]
  },
  {
   "cell_type": "code",
   "execution_count": 118,
   "metadata": {},
   "outputs": [
    {
     "data": {
      "text/plain": [
       "([mean: 0.85433, std: 0.00697, params: {'max_depth': 5},\n",
       "  mean: 0.86588, std: 0.00524, params: {'max_depth': 7},\n",
       "  mean: 0.86914, std: 0.00423, params: {'max_depth': 9},\n",
       "  mean: 0.86636, std: 0.00422, params: {'max_depth': 11},\n",
       "  mean: 0.86837, std: 0.00423, params: {'max_depth': 13},\n",
       "  mean: 0.86464, std: 0.00674, params: {'max_depth': 15}],\n",
       " {'max_depth': 9},\n",
       " 0.8691382311160947)"
      ]
     },
     "execution_count": 118,
     "metadata": {},
     "output_type": "execute_result"
    }
   ],
   "source": [
    "param_test2 = {'max_depth':list(range(5,16,2))} #'min_samples_split':list(range(200,1001,200))}\n",
    "gsearch2 = GridSearchCV(estimator = XGBClassifier(learning_rate=0.1, n_estimators=50, max_features='sqrt', subsample=0.8, random_state=10),param_grid = param_test2, scoring='roc_auc',n_jobs=4,iid=False, cv=5)\n",
    "gsearch2.fit(train_set,train_label)\n",
    "gsearch2.grid_scores_, gsearch2.best_params_, gsearch2.best_score_"
   ]
  },
  {
   "cell_type": "markdown",
   "metadata": {},
   "source": [
    "## Tune min child weight "
   ]
  },
  {
   "cell_type": "code",
   "execution_count": 144,
   "metadata": {},
   "outputs": [
    {
     "data": {
      "text/plain": [
       "([mean: 0.86914, std: 0.00423, params: {'min_child_weight': 1},\n",
       "  mean: 0.87113, std: 0.00193, params: {'min_child_weight': 2},\n",
       "  mean: 0.87234, std: 0.00306, params: {'min_child_weight': 3},\n",
       "  mean: 0.87039, std: 0.00224, params: {'min_child_weight': 4},\n",
       "  mean: 0.87088, std: 0.00359, params: {'min_child_weight': 5},\n",
       "  mean: 0.87222, std: 0.00276, params: {'min_child_weight': 6},\n",
       "  mean: 0.87203, std: 0.00312, params: {'min_child_weight': 7},\n",
       "  mean: 0.87111, std: 0.00252, params: {'min_child_weight': 8},\n",
       "  mean: 0.87291, std: 0.00314, params: {'min_child_weight': 9}],\n",
       " {'min_child_weight': 9},\n",
       " 0.8729081600992872)"
      ]
     },
     "execution_count": 144,
     "metadata": {},
     "output_type": "execute_result"
    }
   ],
   "source": [
    "param_test3 = {'min_child_weight':list(range(1,10,1))}\n",
    "gsearch3 = GridSearchCV(estimator = XGBClassifier(learning_rate=0.1, n_estimators=50,max_depth=9, min_child_weight=1, min_samples_leaf=60, subsample=0.8, random_state=10),param_grid = param_test3, scoring='roc_auc',n_jobs=4,iid=False, cv=5)\n",
    "gsearch3.fit(train_set,train_label)\n",
    "gsearch3.grid_scores_, gsearch3.best_params_, gsearch3.best_score_"
   ]
  },
  {
   "cell_type": "markdown",
   "metadata": {},
   "source": [
    "## Tune subsample "
   ]
  },
  {
   "cell_type": "code",
   "execution_count": 23,
   "metadata": {},
   "outputs": [
    {
     "ename": "NameError",
     "evalue": "name 'param_test3' is not defined",
     "output_type": "error",
     "traceback": [
      "\u001b[0;31m---------------------------------------------------------------------------\u001b[0m",
      "\u001b[0;31mNameError\u001b[0m                                 Traceback (most recent call last)",
      "\u001b[0;32m<ipython-input-23-676a849b4a0f>\u001b[0m in \u001b[0;36m<module>\u001b[0;34m()\u001b[0m\n\u001b[1;32m      1\u001b[0m \u001b[0mparam_test4\u001b[0m \u001b[0;34m=\u001b[0m \u001b[0;34m{\u001b[0m\u001b[0;34m'subsample'\u001b[0m\u001b[0;34m:\u001b[0m\u001b[0;34m[\u001b[0m\u001b[0;36m0.6\u001b[0m\u001b[0;34m,\u001b[0m\u001b[0;36m0.7\u001b[0m\u001b[0;34m,\u001b[0m\u001b[0;36m0.75\u001b[0m\u001b[0;34m,\u001b[0m\u001b[0;36m0.8\u001b[0m\u001b[0;34m,\u001b[0m\u001b[0;36m0.85\u001b[0m\u001b[0;34m,\u001b[0m\u001b[0;36m0.9\u001b[0m\u001b[0;34m]\u001b[0m\u001b[0;34m}\u001b[0m\u001b[0;34m\u001b[0m\u001b[0m\n\u001b[0;32m----> 2\u001b[0;31m \u001b[0mgsearch4\u001b[0m \u001b[0;34m=\u001b[0m \u001b[0mGridSearchCV\u001b[0m\u001b[0;34m(\u001b[0m\u001b[0mestimator\u001b[0m \u001b[0;34m=\u001b[0m \u001b[0mXGBClassifier\u001b[0m\u001b[0;34m(\u001b[0m\u001b[0mlearning_rate\u001b[0m\u001b[0;34m=\u001b[0m\u001b[0;36m0.1\u001b[0m\u001b[0;34m,\u001b[0m \u001b[0mn_estimators\u001b[0m\u001b[0;34m=\u001b[0m\u001b[0;36m50\u001b[0m\u001b[0;34m,\u001b[0m\u001b[0mmax_depth\u001b[0m\u001b[0;34m=\u001b[0m\u001b[0;36m9\u001b[0m\u001b[0;34m,\u001b[0m \u001b[0mmin_child_weight\u001b[0m\u001b[0;34m=\u001b[0m\u001b[0;36m9\u001b[0m\u001b[0;34m,\u001b[0m \u001b[0mmin_samples_leaf\u001b[0m\u001b[0;34m=\u001b[0m\u001b[0;36m60\u001b[0m\u001b[0;34m,\u001b[0m \u001b[0msubsample\u001b[0m\u001b[0;34m=\u001b[0m\u001b[0;36m0.8\u001b[0m\u001b[0;34m,\u001b[0m \u001b[0mrandom_state\u001b[0m\u001b[0;34m=\u001b[0m\u001b[0;36m10\u001b[0m\u001b[0;34m)\u001b[0m\u001b[0;34m,\u001b[0m\u001b[0mparam_grid\u001b[0m \u001b[0;34m=\u001b[0m \u001b[0mparam_test3\u001b[0m\u001b[0;34m,\u001b[0m \u001b[0mscoring\u001b[0m\u001b[0;34m=\u001b[0m\u001b[0;34m'roc_auc'\u001b[0m\u001b[0;34m,\u001b[0m\u001b[0mn_jobs\u001b[0m\u001b[0;34m=\u001b[0m\u001b[0;36m4\u001b[0m\u001b[0;34m,\u001b[0m\u001b[0miid\u001b[0m\u001b[0;34m=\u001b[0m\u001b[0;32mFalse\u001b[0m\u001b[0;34m,\u001b[0m \u001b[0mcv\u001b[0m\u001b[0;34m=\u001b[0m\u001b[0;36m5\u001b[0m\u001b[0;34m)\u001b[0m\u001b[0;34m\u001b[0m\u001b[0m\n\u001b[0m\u001b[1;32m      3\u001b[0m \u001b[0mgsearch4\u001b[0m\u001b[0;34m.\u001b[0m\u001b[0mfit\u001b[0m\u001b[0;34m(\u001b[0m\u001b[0mtrain_set\u001b[0m\u001b[0;34m,\u001b[0m\u001b[0mtrain_label\u001b[0m\u001b[0;34m)\u001b[0m\u001b[0;34m\u001b[0m\u001b[0m\n\u001b[1;32m      4\u001b[0m \u001b[0mgsearch4\u001b[0m\u001b[0;34m.\u001b[0m\u001b[0mgrid_scores_\u001b[0m\u001b[0;34m,\u001b[0m \u001b[0mgsearch4\u001b[0m\u001b[0;34m.\u001b[0m\u001b[0mbest_params_\u001b[0m\u001b[0;34m,\u001b[0m \u001b[0mgsearch4\u001b[0m\u001b[0;34m.\u001b[0m\u001b[0mbest_score_\u001b[0m\u001b[0;34m\u001b[0m\u001b[0m\n",
      "\u001b[0;31mNameError\u001b[0m: name 'param_test3' is not defined"
     ]
    }
   ],
   "source": [
    "param_test4 = {'subsample':[0.6,0.7,0.75,0.8,0.85,0.9]}\n",
    "gsearch4 = GridSearchCV(estimator = XGBClassifier(learning_rate=0.1, n_estimators=50,max_depth=9, min_child_weight=9, min_samples_leaf=60, subsample=0.8, random_state=10),param_grid = param_test3, scoring='roc_auc',n_jobs=4,iid=False, cv=5)\n",
    "gsearch4.fit(train_set,train_label)\n",
    "gsearch4.grid_scores_, gsearch4.best_params_, gsearch4.best_score_"
   ]
  },
  {
   "cell_type": "markdown",
   "metadata": {},
   "source": [
    "# Training model"
   ]
  },
  {
   "cell_type": "markdown",
   "metadata": {},
   "source": [
    "## GBDT with best parameter (178 clicks on test)"
   ]
  },
  {
   "cell_type": "code",
   "execution_count": 114,
   "metadata": {},
   "outputs": [],
   "source": [
    "GB = GradientBoostingClassifier(learning_rate = 0.1,\n",
    " n_estimators=175,\n",
    " max_depth=9,\n",
    " min_samples_split=200, min_samples_leaf=60,\n",
    " subsample=0.85,\n",
    " random_state=10)\n",
    "\n",
    "model_gb=GB.fit(train_set,train_label)"
   ]
  },
  {
   "cell_type": "code",
   "execution_count": 115,
   "metadata": {},
   "outputs": [
    {
     "name": "stdout",
     "output_type": "stream",
     "text": [
      "AUC: 0.878938813222\n"
     ]
    }
   ],
   "source": [
    "gb_pred_ctr=[]\n",
    "for a, b in model_gb.predict_proba(validation_set):\n",
    "    gb_pred_ctr.append(b)\n",
    "auc=roc_auc_score(validation_label, gb_pred_ctr)\n",
    "print('AUC:',auc)"
   ]
  },
  {
   "cell_type": "markdown",
   "metadata": {},
   "source": [
    "### XGBoost with best parameter (179 clicks on test)"
   ]
  },
  {
   "cell_type": "code",
   "execution_count": 28,
   "metadata": {
    "collapsed": true
   },
   "outputs": [],
   "source": [
    "seed=10\n",
    "X_train, X_test, y_train, y_test = train_test_split(train_set, train_label, random_state=seed)\n",
    "eval_set = [(X_train, y_train), (X_test, y_test)]"
   ]
  },
  {
   "cell_type": "code",
   "execution_count": 29,
   "metadata": {
    "collapsed": true
   },
   "outputs": [],
   "source": [
    "model_XGB = xgb.XGBClassifier(booster='gbtree',learning_rate = 0.1,\n",
    " n_estimators=50,\n",
    " max_depth=9,\n",
    " min_child_weight=9,\n",
    " gamma=0,\n",
    " subsample=0.8,\n",
    " colsample_bytree=0.85,\n",
    " objective= 'binary:logistic',\n",
    " nthread=4,\n",
    " scale_pos_weight=1, seed=27,n_jobs=4)"
   ]
  },
  {
   "cell_type": "code",
   "execution_count": 31,
   "metadata": {},
   "outputs": [
    {
     "name": "stdout",
     "output_type": "stream",
     "text": [
      "[0]\tvalidation_0-auc:0.763575\tvalidation_1-auc:0.787059\n",
      "Multiple eval metrics have been passed: 'validation_1-auc' will be used for early stopping.\n",
      "\n",
      "Will train until validation_1-auc hasn't improved in 10 rounds.\n",
      "[1]\tvalidation_0-auc:0.771185\tvalidation_1-auc:0.793953\n",
      "[2]\tvalidation_0-auc:0.816308\tvalidation_1-auc:0.831067\n",
      "[3]\tvalidation_0-auc:0.821647\tvalidation_1-auc:0.842789\n",
      "[4]\tvalidation_0-auc:0.84349\tvalidation_1-auc:0.859065\n",
      "[5]\tvalidation_0-auc:0.84823\tvalidation_1-auc:0.863046\n",
      "[6]\tvalidation_0-auc:0.853854\tvalidation_1-auc:0.869639\n",
      "[7]\tvalidation_0-auc:0.856162\tvalidation_1-auc:0.872832\n",
      "[8]\tvalidation_0-auc:0.856625\tvalidation_1-auc:0.873239\n",
      "[9]\tvalidation_0-auc:0.863222\tvalidation_1-auc:0.87302\n",
      "[10]\tvalidation_0-auc:0.86535\tvalidation_1-auc:0.874459\n",
      "[11]\tvalidation_0-auc:0.865947\tvalidation_1-auc:0.874754\n",
      "[12]\tvalidation_0-auc:0.867652\tvalidation_1-auc:0.87766\n",
      "[13]\tvalidation_0-auc:0.869826\tvalidation_1-auc:0.879069\n",
      "[14]\tvalidation_0-auc:0.872545\tvalidation_1-auc:0.881198\n",
      "[15]\tvalidation_0-auc:0.872039\tvalidation_1-auc:0.880314\n",
      "[16]\tvalidation_0-auc:0.873306\tvalidation_1-auc:0.880809\n",
      "[17]\tvalidation_0-auc:0.874813\tvalidation_1-auc:0.883058\n",
      "[18]\tvalidation_0-auc:0.877043\tvalidation_1-auc:0.887454\n",
      "[19]\tvalidation_0-auc:0.878355\tvalidation_1-auc:0.887334\n",
      "[20]\tvalidation_0-auc:0.880037\tvalidation_1-auc:0.888523\n",
      "[21]\tvalidation_0-auc:0.882866\tvalidation_1-auc:0.890581\n",
      "[22]\tvalidation_0-auc:0.882717\tvalidation_1-auc:0.89023\n",
      "[23]\tvalidation_0-auc:0.881705\tvalidation_1-auc:0.889849\n",
      "[24]\tvalidation_0-auc:0.883033\tvalidation_1-auc:0.891669\n",
      "[25]\tvalidation_0-auc:0.883438\tvalidation_1-auc:0.892813\n",
      "[26]\tvalidation_0-auc:0.886094\tvalidation_1-auc:0.895208\n",
      "[27]\tvalidation_0-auc:0.88857\tvalidation_1-auc:0.897866\n",
      "[28]\tvalidation_0-auc:0.888447\tvalidation_1-auc:0.898124\n",
      "[29]\tvalidation_0-auc:0.888616\tvalidation_1-auc:0.899267\n",
      "[30]\tvalidation_0-auc:0.889175\tvalidation_1-auc:0.899283\n",
      "[31]\tvalidation_0-auc:0.890506\tvalidation_1-auc:0.903325\n",
      "[32]\tvalidation_0-auc:0.890679\tvalidation_1-auc:0.905394\n",
      "[33]\tvalidation_0-auc:0.891717\tvalidation_1-auc:0.905314\n",
      "[34]\tvalidation_0-auc:0.89166\tvalidation_1-auc:0.90477\n",
      "[35]\tvalidation_0-auc:0.89266\tvalidation_1-auc:0.906724\n",
      "[36]\tvalidation_0-auc:0.893486\tvalidation_1-auc:0.906564\n",
      "[37]\tvalidation_0-auc:0.896521\tvalidation_1-auc:0.91044\n",
      "[38]\tvalidation_0-auc:0.897947\tvalidation_1-auc:0.912103\n",
      "[39]\tvalidation_0-auc:0.899651\tvalidation_1-auc:0.914404\n",
      "[40]\tvalidation_0-auc:0.899754\tvalidation_1-auc:0.9152\n",
      "[41]\tvalidation_0-auc:0.901021\tvalidation_1-auc:0.915853\n",
      "[42]\tvalidation_0-auc:0.902668\tvalidation_1-auc:0.919066\n",
      "[43]\tvalidation_0-auc:0.903425\tvalidation_1-auc:0.920323\n",
      "[44]\tvalidation_0-auc:0.903597\tvalidation_1-auc:0.920646\n",
      "[45]\tvalidation_0-auc:0.904011\tvalidation_1-auc:0.921409\n",
      "[46]\tvalidation_0-auc:0.904586\tvalidation_1-auc:0.922483\n",
      "[47]\tvalidation_0-auc:0.904874\tvalidation_1-auc:0.923418\n",
      "[48]\tvalidation_0-auc:0.905559\tvalidation_1-auc:0.924366\n",
      "[49]\tvalidation_0-auc:0.905906\tvalidation_1-auc:0.924915\n"
     ]
    },
    {
     "data": {
      "text/plain": [
       "XGBClassifier(base_score=0.5, booster='gbtree', colsample_bylevel=1,\n",
       "       colsample_bytree=0.85, gamma=0, learning_rate=0.1, max_delta_step=0,\n",
       "       max_depth=9, min_child_weight=9, missing=None, n_estimators=50,\n",
       "       n_jobs=4, nthread=4, objective='binary:logistic', random_state=0,\n",
       "       reg_alpha=0, reg_lambda=1, scale_pos_weight=1, seed=27, silent=True,\n",
       "       subsample=0.8)"
      ]
     },
     "execution_count": 31,
     "metadata": {},
     "output_type": "execute_result"
    }
   ],
   "source": [
    "model_XGB.fit(train_set, train_label,eval_metric=\"auc\",\n",
    "               eval_set=eval_set, verbose=True, early_stopping_rounds=10)"
   ]
  },
  {
   "cell_type": "markdown",
   "metadata": {},
   "source": [
    "## The second XGboost (178 clicks on test)"
   ]
  },
  {
   "cell_type": "code",
   "execution_count": 147,
   "metadata": {
    "collapsed": true
   },
   "outputs": [],
   "source": [
    "xgb_model=XGBClassifier(booster='gbtree', objective='binary:logistic', max_depth=20, n_estimators=1000,\\\n",
    "                       n_jobs=4, slient=False)"
   ]
  },
  {
   "cell_type": "code",
   "execution_count": 171,
   "metadata": {},
   "outputs": [
    {
     "name": "stdout",
     "output_type": "stream",
     "text": [
      "[0]\tvalidation_0-auc:0.837612\tvalidation_1-auc:0.856065\n",
      "Multiple eval metrics have been passed: 'validation_1-auc' will be used for early stopping.\n",
      "\n",
      "Will train until validation_1-auc hasn't improved in 10 rounds.\n",
      "[1]\tvalidation_0-auc:0.84417\tvalidation_1-auc:0.860466\n",
      "[2]\tvalidation_0-auc:0.848926\tvalidation_1-auc:0.86359\n",
      "[3]\tvalidation_0-auc:0.867764\tvalidation_1-auc:0.880124\n",
      "[4]\tvalidation_0-auc:0.871705\tvalidation_1-auc:0.885821\n",
      "[5]\tvalidation_0-auc:0.878763\tvalidation_1-auc:0.888654\n",
      "[6]\tvalidation_0-auc:0.881989\tvalidation_1-auc:0.896421\n",
      "[7]\tvalidation_0-auc:0.887471\tvalidation_1-auc:0.898908\n",
      "[8]\tvalidation_0-auc:0.891718\tvalidation_1-auc:0.903429\n",
      "[9]\tvalidation_0-auc:0.894128\tvalidation_1-auc:0.905932\n",
      "[10]\tvalidation_0-auc:0.897406\tvalidation_1-auc:0.911641\n",
      "[11]\tvalidation_0-auc:0.901682\tvalidation_1-auc:0.914437\n",
      "[12]\tvalidation_0-auc:0.904407\tvalidation_1-auc:0.917372\n",
      "[13]\tvalidation_0-auc:0.909805\tvalidation_1-auc:0.919753\n",
      "[14]\tvalidation_0-auc:0.911918\tvalidation_1-auc:0.922388\n",
      "[15]\tvalidation_0-auc:0.920733\tvalidation_1-auc:0.932825\n",
      "[16]\tvalidation_0-auc:0.931173\tvalidation_1-auc:0.942032\n",
      "[17]\tvalidation_0-auc:0.935996\tvalidation_1-auc:0.947838\n",
      "[18]\tvalidation_0-auc:0.944059\tvalidation_1-auc:0.958247\n",
      "[19]\tvalidation_0-auc:0.949057\tvalidation_1-auc:0.963184\n",
      "[20]\tvalidation_0-auc:0.953415\tvalidation_1-auc:0.965975\n",
      "[21]\tvalidation_0-auc:0.956993\tvalidation_1-auc:0.969663\n",
      "[22]\tvalidation_0-auc:0.958712\tvalidation_1-auc:0.970127\n",
      "[23]\tvalidation_0-auc:0.961331\tvalidation_1-auc:0.972196\n",
      "[24]\tvalidation_0-auc:0.964536\tvalidation_1-auc:0.974327\n",
      "[25]\tvalidation_0-auc:0.966\tvalidation_1-auc:0.97565\n",
      "[26]\tvalidation_0-auc:0.967825\tvalidation_1-auc:0.976361\n",
      "[27]\tvalidation_0-auc:0.970502\tvalidation_1-auc:0.977352\n",
      "[28]\tvalidation_0-auc:0.972923\tvalidation_1-auc:0.979375\n",
      "[29]\tvalidation_0-auc:0.974645\tvalidation_1-auc:0.9808\n",
      "[30]\tvalidation_0-auc:0.976152\tvalidation_1-auc:0.982414\n",
      "[31]\tvalidation_0-auc:0.977481\tvalidation_1-auc:0.98318\n",
      "[32]\tvalidation_0-auc:0.978956\tvalidation_1-auc:0.98392\n",
      "[33]\tvalidation_0-auc:0.980783\tvalidation_1-auc:0.984773\n",
      "[34]\tvalidation_0-auc:0.981792\tvalidation_1-auc:0.985325\n",
      "[35]\tvalidation_0-auc:0.98309\tvalidation_1-auc:0.986801\n",
      "[36]\tvalidation_0-auc:0.984244\tvalidation_1-auc:0.987879\n",
      "[37]\tvalidation_0-auc:0.98572\tvalidation_1-auc:0.989052\n",
      "[38]\tvalidation_0-auc:0.986749\tvalidation_1-auc:0.989872\n",
      "[39]\tvalidation_0-auc:0.987442\tvalidation_1-auc:0.990565\n",
      "[40]\tvalidation_0-auc:0.988246\tvalidation_1-auc:0.991183\n",
      "[41]\tvalidation_0-auc:0.989034\tvalidation_1-auc:0.991873\n",
      "[42]\tvalidation_0-auc:0.989774\tvalidation_1-auc:0.992354\n",
      "[43]\tvalidation_0-auc:0.99057\tvalidation_1-auc:0.992805\n",
      "[44]\tvalidation_0-auc:0.991152\tvalidation_1-auc:0.993099\n",
      "[45]\tvalidation_0-auc:0.991734\tvalidation_1-auc:0.993444\n",
      "[46]\tvalidation_0-auc:0.992331\tvalidation_1-auc:0.993908\n",
      "[47]\tvalidation_0-auc:0.992666\tvalidation_1-auc:0.994314\n",
      "[48]\tvalidation_0-auc:0.993086\tvalidation_1-auc:0.994749\n",
      "[49]\tvalidation_0-auc:0.993456\tvalidation_1-auc:0.99508\n",
      "[50]\tvalidation_0-auc:0.993715\tvalidation_1-auc:0.995267\n",
      "[51]\tvalidation_0-auc:0.993978\tvalidation_1-auc:0.995479\n",
      "[52]\tvalidation_0-auc:0.9943\tvalidation_1-auc:0.995587\n",
      "[53]\tvalidation_0-auc:0.994571\tvalidation_1-auc:0.995796\n",
      "[54]\tvalidation_0-auc:0.994714\tvalidation_1-auc:0.99589\n",
      "[55]\tvalidation_0-auc:0.994906\tvalidation_1-auc:0.995965\n",
      "[56]\tvalidation_0-auc:0.995176\tvalidation_1-auc:0.996119\n",
      "[57]\tvalidation_0-auc:0.995337\tvalidation_1-auc:0.99627\n",
      "[58]\tvalidation_0-auc:0.995512\tvalidation_1-auc:0.996361\n",
      "[59]\tvalidation_0-auc:0.995607\tvalidation_1-auc:0.996413\n",
      "[60]\tvalidation_0-auc:0.995758\tvalidation_1-auc:0.996466\n",
      "[61]\tvalidation_0-auc:0.99586\tvalidation_1-auc:0.996462\n",
      "[62]\tvalidation_0-auc:0.995963\tvalidation_1-auc:0.996507\n",
      "[63]\tvalidation_0-auc:0.996109\tvalidation_1-auc:0.996636\n",
      "[64]\tvalidation_0-auc:0.996194\tvalidation_1-auc:0.996677\n",
      "[65]\tvalidation_0-auc:0.996333\tvalidation_1-auc:0.996814\n",
      "[66]\tvalidation_0-auc:0.996376\tvalidation_1-auc:0.996831\n",
      "[67]\tvalidation_0-auc:0.996453\tvalidation_1-auc:0.996893\n",
      "[68]\tvalidation_0-auc:0.996595\tvalidation_1-auc:0.996975\n",
      "[69]\tvalidation_0-auc:0.996685\tvalidation_1-auc:0.997016\n",
      "[70]\tvalidation_0-auc:0.996709\tvalidation_1-auc:0.997043\n",
      "[71]\tvalidation_0-auc:0.996773\tvalidation_1-auc:0.997098\n",
      "[72]\tvalidation_0-auc:0.99683\tvalidation_1-auc:0.997119\n",
      "[73]\tvalidation_0-auc:0.996839\tvalidation_1-auc:0.997127\n",
      "[74]\tvalidation_0-auc:0.996862\tvalidation_1-auc:0.997129\n",
      "[75]\tvalidation_0-auc:0.996882\tvalidation_1-auc:0.997141\n",
      "[76]\tvalidation_0-auc:0.996976\tvalidation_1-auc:0.997212\n",
      "[77]\tvalidation_0-auc:0.997038\tvalidation_1-auc:0.99724\n",
      "[78]\tvalidation_0-auc:0.997072\tvalidation_1-auc:0.997266\n",
      "[79]\tvalidation_0-auc:0.99715\tvalidation_1-auc:0.997325\n",
      "[80]\tvalidation_0-auc:0.997167\tvalidation_1-auc:0.997339\n",
      "[81]\tvalidation_0-auc:0.997233\tvalidation_1-auc:0.997398\n",
      "[82]\tvalidation_0-auc:0.997249\tvalidation_1-auc:0.997422\n",
      "[83]\tvalidation_0-auc:0.997259\tvalidation_1-auc:0.99742\n",
      "[84]\tvalidation_0-auc:0.997293\tvalidation_1-auc:0.997444\n",
      "[85]\tvalidation_0-auc:0.99733\tvalidation_1-auc:0.997469\n",
      "[86]\tvalidation_0-auc:0.997398\tvalidation_1-auc:0.997498\n",
      "[87]\tvalidation_0-auc:0.997438\tvalidation_1-auc:0.997493\n",
      "[88]\tvalidation_0-auc:0.997473\tvalidation_1-auc:0.997517\n",
      "[89]\tvalidation_0-auc:0.997492\tvalidation_1-auc:0.997529\n",
      "[90]\tvalidation_0-auc:0.997498\tvalidation_1-auc:0.997537\n",
      "[91]\tvalidation_0-auc:0.997525\tvalidation_1-auc:0.997546\n",
      "[92]\tvalidation_0-auc:0.997561\tvalidation_1-auc:0.997561\n",
      "[93]\tvalidation_0-auc:0.997602\tvalidation_1-auc:0.997596\n",
      "[94]\tvalidation_0-auc:0.997624\tvalidation_1-auc:0.997612\n",
      "[95]\tvalidation_0-auc:0.997633\tvalidation_1-auc:0.997621\n",
      "[96]\tvalidation_0-auc:0.997689\tvalidation_1-auc:0.997657\n",
      "[97]\tvalidation_0-auc:0.997695\tvalidation_1-auc:0.997664\n",
      "[98]\tvalidation_0-auc:0.997728\tvalidation_1-auc:0.997679\n",
      "[99]\tvalidation_0-auc:0.997756\tvalidation_1-auc:0.997692\n",
      "[100]\tvalidation_0-auc:0.997788\tvalidation_1-auc:0.997716\n",
      "[101]\tvalidation_0-auc:0.997828\tvalidation_1-auc:0.997796\n",
      "[102]\tvalidation_0-auc:0.997859\tvalidation_1-auc:0.997823\n",
      "[103]\tvalidation_0-auc:0.997879\tvalidation_1-auc:0.997847\n",
      "[104]\tvalidation_0-auc:0.997899\tvalidation_1-auc:0.997852\n",
      "[105]\tvalidation_0-auc:0.997937\tvalidation_1-auc:0.997924\n",
      "[106]\tvalidation_0-auc:0.997949\tvalidation_1-auc:0.997943\n",
      "[107]\tvalidation_0-auc:0.997968\tvalidation_1-auc:0.997956\n",
      "[108]\tvalidation_0-auc:0.997978\tvalidation_1-auc:0.997965\n",
      "[109]\tvalidation_0-auc:0.997994\tvalidation_1-auc:0.997977\n",
      "[110]\tvalidation_0-auc:0.998032\tvalidation_1-auc:0.997993\n",
      "[111]\tvalidation_0-auc:0.998038\tvalidation_1-auc:0.998002\n",
      "[112]\tvalidation_0-auc:0.998109\tvalidation_1-auc:0.99803\n",
      "[113]\tvalidation_0-auc:0.998117\tvalidation_1-auc:0.998044\n",
      "[114]\tvalidation_0-auc:0.998127\tvalidation_1-auc:0.998051\n",
      "[115]\tvalidation_0-auc:0.998133\tvalidation_1-auc:0.998056\n",
      "[116]\tvalidation_0-auc:0.998157\tvalidation_1-auc:0.998073\n",
      "[117]\tvalidation_0-auc:0.998172\tvalidation_1-auc:0.99809\n",
      "[118]\tvalidation_0-auc:0.998202\tvalidation_1-auc:0.998118\n",
      "[119]\tvalidation_0-auc:0.998251\tvalidation_1-auc:0.998148\n",
      "[120]\tvalidation_0-auc:0.998261\tvalidation_1-auc:0.998162\n",
      "[121]\tvalidation_0-auc:0.998289\tvalidation_1-auc:0.998189\n",
      "[122]\tvalidation_0-auc:0.998334\tvalidation_1-auc:0.998214\n",
      "[123]\tvalidation_0-auc:0.998371\tvalidation_1-auc:0.99823\n",
      "[124]\tvalidation_0-auc:0.998404\tvalidation_1-auc:0.998245\n",
      "[125]\tvalidation_0-auc:0.998426\tvalidation_1-auc:0.998282\n",
      "[126]\tvalidation_0-auc:0.998449\tvalidation_1-auc:0.998298\n",
      "[127]\tvalidation_0-auc:0.998471\tvalidation_1-auc:0.998303\n",
      "[128]\tvalidation_0-auc:0.998503\tvalidation_1-auc:0.998347\n",
      "[129]\tvalidation_0-auc:0.998521\tvalidation_1-auc:0.998359\n",
      "[130]\tvalidation_0-auc:0.998546\tvalidation_1-auc:0.998373\n",
      "[131]\tvalidation_0-auc:0.998576\tvalidation_1-auc:0.998393\n",
      "[132]\tvalidation_0-auc:0.998583\tvalidation_1-auc:0.998403\n",
      "[133]\tvalidation_0-auc:0.998587\tvalidation_1-auc:0.998408\n",
      "[134]\tvalidation_0-auc:0.998606\tvalidation_1-auc:0.998425\n",
      "[135]\tvalidation_0-auc:0.998611\tvalidation_1-auc:0.99843\n",
      "[136]\tvalidation_0-auc:0.998628\tvalidation_1-auc:0.998438\n",
      "[137]\tvalidation_0-auc:0.998654\tvalidation_1-auc:0.998458\n",
      "[138]\tvalidation_0-auc:0.998671\tvalidation_1-auc:0.998474\n",
      "[139]\tvalidation_0-auc:0.99868\tvalidation_1-auc:0.99848\n",
      "[140]\tvalidation_0-auc:0.998694\tvalidation_1-auc:0.998492\n"
     ]
    },
    {
     "name": "stdout",
     "output_type": "stream",
     "text": [
      "[141]\tvalidation_0-auc:0.998695\tvalidation_1-auc:0.998497\n",
      "[142]\tvalidation_0-auc:0.998711\tvalidation_1-auc:0.998506\n",
      "[143]\tvalidation_0-auc:0.998731\tvalidation_1-auc:0.998548\n",
      "[144]\tvalidation_0-auc:0.99874\tvalidation_1-auc:0.998556\n",
      "[145]\tvalidation_0-auc:0.998743\tvalidation_1-auc:0.998564\n",
      "[146]\tvalidation_0-auc:0.998761\tvalidation_1-auc:0.99858\n",
      "[147]\tvalidation_0-auc:0.998789\tvalidation_1-auc:0.998607\n",
      "[148]\tvalidation_0-auc:0.998795\tvalidation_1-auc:0.998613\n",
      "[149]\tvalidation_0-auc:0.998809\tvalidation_1-auc:0.998633\n",
      "[150]\tvalidation_0-auc:0.998813\tvalidation_1-auc:0.998642\n",
      "[151]\tvalidation_0-auc:0.998826\tvalidation_1-auc:0.998656\n",
      "[152]\tvalidation_0-auc:0.998837\tvalidation_1-auc:0.998663\n",
      "[153]\tvalidation_0-auc:0.998845\tvalidation_1-auc:0.998667\n",
      "[154]\tvalidation_0-auc:0.998857\tvalidation_1-auc:0.998677\n",
      "[155]\tvalidation_0-auc:0.998885\tvalidation_1-auc:0.99868\n",
      "[156]\tvalidation_0-auc:0.998906\tvalidation_1-auc:0.998695\n",
      "[157]\tvalidation_0-auc:0.998921\tvalidation_1-auc:0.998705\n",
      "[158]\tvalidation_0-auc:0.998935\tvalidation_1-auc:0.998748\n",
      "[159]\tvalidation_0-auc:0.998941\tvalidation_1-auc:0.998764\n",
      "[160]\tvalidation_0-auc:0.998952\tvalidation_1-auc:0.998765\n",
      "[161]\tvalidation_0-auc:0.998966\tvalidation_1-auc:0.998767\n",
      "[162]\tvalidation_0-auc:0.998979\tvalidation_1-auc:0.998771\n",
      "[163]\tvalidation_0-auc:0.998985\tvalidation_1-auc:0.99878\n",
      "[164]\tvalidation_0-auc:0.998992\tvalidation_1-auc:0.998788\n",
      "[165]\tvalidation_0-auc:0.999003\tvalidation_1-auc:0.998799\n",
      "[166]\tvalidation_0-auc:0.99901\tvalidation_1-auc:0.998806\n",
      "[167]\tvalidation_0-auc:0.999019\tvalidation_1-auc:0.998813\n",
      "[168]\tvalidation_0-auc:0.99903\tvalidation_1-auc:0.998826\n",
      "[169]\tvalidation_0-auc:0.999048\tvalidation_1-auc:0.998861\n",
      "[170]\tvalidation_0-auc:0.999054\tvalidation_1-auc:0.998868\n",
      "[171]\tvalidation_0-auc:0.99906\tvalidation_1-auc:0.998875\n",
      "[172]\tvalidation_0-auc:0.999065\tvalidation_1-auc:0.998886\n",
      "[173]\tvalidation_0-auc:0.999071\tvalidation_1-auc:0.998891\n",
      "[174]\tvalidation_0-auc:0.999074\tvalidation_1-auc:0.998891\n",
      "[175]\tvalidation_0-auc:0.999082\tvalidation_1-auc:0.998898\n",
      "[176]\tvalidation_0-auc:0.999089\tvalidation_1-auc:0.998903\n",
      "[177]\tvalidation_0-auc:0.99909\tvalidation_1-auc:0.998907\n",
      "[178]\tvalidation_0-auc:0.999102\tvalidation_1-auc:0.998911\n",
      "[179]\tvalidation_0-auc:0.999109\tvalidation_1-auc:0.998914\n",
      "[180]\tvalidation_0-auc:0.999116\tvalidation_1-auc:0.998914\n",
      "[181]\tvalidation_0-auc:0.999118\tvalidation_1-auc:0.998916\n",
      "[182]\tvalidation_0-auc:0.99913\tvalidation_1-auc:0.998922\n",
      "[183]\tvalidation_0-auc:0.999135\tvalidation_1-auc:0.998928\n",
      "[184]\tvalidation_0-auc:0.999139\tvalidation_1-auc:0.998931\n",
      "[185]\tvalidation_0-auc:0.999145\tvalidation_1-auc:0.998942\n",
      "[186]\tvalidation_0-auc:0.999153\tvalidation_1-auc:0.998951\n",
      "[187]\tvalidation_0-auc:0.99916\tvalidation_1-auc:0.998961\n",
      "[188]\tvalidation_0-auc:0.999167\tvalidation_1-auc:0.998991\n",
      "[189]\tvalidation_0-auc:0.999187\tvalidation_1-auc:0.999003\n",
      "[190]\tvalidation_0-auc:0.999199\tvalidation_1-auc:0.999011\n",
      "[191]\tvalidation_0-auc:0.999214\tvalidation_1-auc:0.99902\n",
      "[192]\tvalidation_0-auc:0.999224\tvalidation_1-auc:0.999032\n",
      "[193]\tvalidation_0-auc:0.999228\tvalidation_1-auc:0.999033\n",
      "[194]\tvalidation_0-auc:0.999242\tvalidation_1-auc:0.999061\n",
      "[195]\tvalidation_0-auc:0.999249\tvalidation_1-auc:0.999067\n",
      "[196]\tvalidation_0-auc:0.999254\tvalidation_1-auc:0.99907\n",
      "[197]\tvalidation_0-auc:0.999255\tvalidation_1-auc:0.99907\n",
      "[198]\tvalidation_0-auc:0.999258\tvalidation_1-auc:0.999074\n",
      "[199]\tvalidation_0-auc:0.999267\tvalidation_1-auc:0.999076\n",
      "[200]\tvalidation_0-auc:0.999272\tvalidation_1-auc:0.999085\n",
      "[201]\tvalidation_0-auc:0.999275\tvalidation_1-auc:0.99909\n",
      "[202]\tvalidation_0-auc:0.999284\tvalidation_1-auc:0.999116\n",
      "[203]\tvalidation_0-auc:0.999289\tvalidation_1-auc:0.99912\n",
      "[204]\tvalidation_0-auc:0.999291\tvalidation_1-auc:0.999125\n",
      "[205]\tvalidation_0-auc:0.999306\tvalidation_1-auc:0.999134\n",
      "[206]\tvalidation_0-auc:0.999313\tvalidation_1-auc:0.999143\n",
      "[207]\tvalidation_0-auc:0.999347\tvalidation_1-auc:0.999179\n",
      "[208]\tvalidation_0-auc:0.999356\tvalidation_1-auc:0.999183\n",
      "[209]\tvalidation_0-auc:0.999357\tvalidation_1-auc:0.999185\n",
      "[210]\tvalidation_0-auc:0.99936\tvalidation_1-auc:0.999187\n",
      "[211]\tvalidation_0-auc:0.999367\tvalidation_1-auc:0.999205\n",
      "[212]\tvalidation_0-auc:0.999384\tvalidation_1-auc:0.999217\n",
      "[213]\tvalidation_0-auc:0.999391\tvalidation_1-auc:0.99922\n",
      "[214]\tvalidation_0-auc:0.999399\tvalidation_1-auc:0.999228\n",
      "[215]\tvalidation_0-auc:0.999409\tvalidation_1-auc:0.999234\n",
      "[216]\tvalidation_0-auc:0.999413\tvalidation_1-auc:0.999235\n",
      "[217]\tvalidation_0-auc:0.999431\tvalidation_1-auc:0.999253\n",
      "[218]\tvalidation_0-auc:0.999435\tvalidation_1-auc:0.999257\n",
      "[219]\tvalidation_0-auc:0.999454\tvalidation_1-auc:0.999269\n",
      "[220]\tvalidation_0-auc:0.99946\tvalidation_1-auc:0.999274\n",
      "[221]\tvalidation_0-auc:0.999467\tvalidation_1-auc:0.999282\n",
      "[222]\tvalidation_0-auc:0.999474\tvalidation_1-auc:0.999287\n",
      "[223]\tvalidation_0-auc:0.999479\tvalidation_1-auc:0.999288\n",
      "[224]\tvalidation_0-auc:0.999483\tvalidation_1-auc:0.999292\n",
      "[225]\tvalidation_0-auc:0.999485\tvalidation_1-auc:0.999296\n",
      "[226]\tvalidation_0-auc:0.999489\tvalidation_1-auc:0.9993\n",
      "[227]\tvalidation_0-auc:0.999497\tvalidation_1-auc:0.999313\n",
      "[228]\tvalidation_0-auc:0.999498\tvalidation_1-auc:0.999319\n",
      "[229]\tvalidation_0-auc:0.999506\tvalidation_1-auc:0.999323\n",
      "[230]\tvalidation_0-auc:0.999513\tvalidation_1-auc:0.999329\n",
      "[231]\tvalidation_0-auc:0.99952\tvalidation_1-auc:0.999339\n",
      "[232]\tvalidation_0-auc:0.999528\tvalidation_1-auc:0.999361\n",
      "[233]\tvalidation_0-auc:0.99953\tvalidation_1-auc:0.999364\n",
      "[234]\tvalidation_0-auc:0.999539\tvalidation_1-auc:0.999384\n",
      "[235]\tvalidation_0-auc:0.999544\tvalidation_1-auc:0.999387\n",
      "[236]\tvalidation_0-auc:0.999548\tvalidation_1-auc:0.999397\n",
      "[237]\tvalidation_0-auc:0.999556\tvalidation_1-auc:0.999398\n",
      "[238]\tvalidation_0-auc:0.999561\tvalidation_1-auc:0.999396\n",
      "[239]\tvalidation_0-auc:0.999562\tvalidation_1-auc:0.999399\n",
      "[240]\tvalidation_0-auc:0.999569\tvalidation_1-auc:0.999415\n",
      "[241]\tvalidation_0-auc:0.999574\tvalidation_1-auc:0.999418\n",
      "[242]\tvalidation_0-auc:0.99958\tvalidation_1-auc:0.999424\n",
      "[243]\tvalidation_0-auc:0.999584\tvalidation_1-auc:0.999424\n",
      "[244]\tvalidation_0-auc:0.999584\tvalidation_1-auc:0.999427\n",
      "[245]\tvalidation_0-auc:0.999589\tvalidation_1-auc:0.999432\n",
      "[246]\tvalidation_0-auc:0.999594\tvalidation_1-auc:0.999443\n",
      "[247]\tvalidation_0-auc:0.999597\tvalidation_1-auc:0.999444\n",
      "[248]\tvalidation_0-auc:0.999609\tvalidation_1-auc:0.999453\n",
      "[249]\tvalidation_0-auc:0.999613\tvalidation_1-auc:0.999458\n",
      "[250]\tvalidation_0-auc:0.999616\tvalidation_1-auc:0.999463\n",
      "[251]\tvalidation_0-auc:0.999622\tvalidation_1-auc:0.999468\n",
      "[252]\tvalidation_0-auc:0.999622\tvalidation_1-auc:0.999468\n",
      "[253]\tvalidation_0-auc:0.999625\tvalidation_1-auc:0.999473\n",
      "[254]\tvalidation_0-auc:0.999629\tvalidation_1-auc:0.999478\n",
      "[255]\tvalidation_0-auc:0.999631\tvalidation_1-auc:0.999479\n",
      "[256]\tvalidation_0-auc:0.999639\tvalidation_1-auc:0.999486\n",
      "[257]\tvalidation_0-auc:0.99964\tvalidation_1-auc:0.999491\n",
      "[258]\tvalidation_0-auc:0.999642\tvalidation_1-auc:0.999493\n",
      "[259]\tvalidation_0-auc:0.999644\tvalidation_1-auc:0.999496\n",
      "[260]\tvalidation_0-auc:0.999647\tvalidation_1-auc:0.9995\n",
      "[261]\tvalidation_0-auc:0.999659\tvalidation_1-auc:0.999509\n",
      "[262]\tvalidation_0-auc:0.999663\tvalidation_1-auc:0.999522\n",
      "[263]\tvalidation_0-auc:0.999665\tvalidation_1-auc:0.999524\n",
      "[264]\tvalidation_0-auc:0.999668\tvalidation_1-auc:0.999528\n",
      "[265]\tvalidation_0-auc:0.999674\tvalidation_1-auc:0.999534\n",
      "[266]\tvalidation_0-auc:0.999678\tvalidation_1-auc:0.999544\n",
      "[267]\tvalidation_0-auc:0.99968\tvalidation_1-auc:0.999546\n",
      "[268]\tvalidation_0-auc:0.999687\tvalidation_1-auc:0.999557\n",
      "[269]\tvalidation_0-auc:0.999691\tvalidation_1-auc:0.999559\n",
      "[270]\tvalidation_0-auc:0.999699\tvalidation_1-auc:0.99957\n",
      "[271]\tvalidation_0-auc:0.999702\tvalidation_1-auc:0.999572\n",
      "[272]\tvalidation_0-auc:0.999709\tvalidation_1-auc:0.999578\n",
      "[273]\tvalidation_0-auc:0.99971\tvalidation_1-auc:0.999578\n",
      "[274]\tvalidation_0-auc:0.999714\tvalidation_1-auc:0.99958\n",
      "[275]\tvalidation_0-auc:0.999719\tvalidation_1-auc:0.999583\n",
      "[276]\tvalidation_0-auc:0.999721\tvalidation_1-auc:0.999587\n",
      "[277]\tvalidation_0-auc:0.999724\tvalidation_1-auc:0.999593\n",
      "[278]\tvalidation_0-auc:0.999728\tvalidation_1-auc:0.999594\n",
      "[279]\tvalidation_0-auc:0.99973\tvalidation_1-auc:0.999597\n",
      "[280]\tvalidation_0-auc:0.999739\tvalidation_1-auc:0.999606\n",
      "[281]\tvalidation_0-auc:0.999744\tvalidation_1-auc:0.999608\n",
      "[282]\tvalidation_0-auc:0.99975\tvalidation_1-auc:0.999613\n"
     ]
    },
    {
     "name": "stdout",
     "output_type": "stream",
     "text": [
      "[283]\tvalidation_0-auc:0.999752\tvalidation_1-auc:0.999615\n",
      "[284]\tvalidation_0-auc:0.999754\tvalidation_1-auc:0.99962\n",
      "[285]\tvalidation_0-auc:0.99976\tvalidation_1-auc:0.999622\n",
      "[286]\tvalidation_0-auc:0.999764\tvalidation_1-auc:0.999624\n",
      "[287]\tvalidation_0-auc:0.999765\tvalidation_1-auc:0.999625\n",
      "[288]\tvalidation_0-auc:0.999768\tvalidation_1-auc:0.99963\n",
      "[289]\tvalidation_0-auc:0.999773\tvalidation_1-auc:0.999642\n",
      "[290]\tvalidation_0-auc:0.999777\tvalidation_1-auc:0.999643\n",
      "[291]\tvalidation_0-auc:0.999779\tvalidation_1-auc:0.999645\n",
      "[292]\tvalidation_0-auc:0.999781\tvalidation_1-auc:0.999647\n",
      "[293]\tvalidation_0-auc:0.999782\tvalidation_1-auc:0.999648\n",
      "[294]\tvalidation_0-auc:0.999783\tvalidation_1-auc:0.999649\n",
      "[295]\tvalidation_0-auc:0.999786\tvalidation_1-auc:0.99965\n",
      "[296]\tvalidation_0-auc:0.999789\tvalidation_1-auc:0.999653\n",
      "[297]\tvalidation_0-auc:0.999791\tvalidation_1-auc:0.999654\n",
      "[298]\tvalidation_0-auc:0.999794\tvalidation_1-auc:0.999656\n",
      "[299]\tvalidation_0-auc:0.999797\tvalidation_1-auc:0.999661\n",
      "[300]\tvalidation_0-auc:0.9998\tvalidation_1-auc:0.999664\n",
      "[301]\tvalidation_0-auc:0.999802\tvalidation_1-auc:0.99967\n",
      "[302]\tvalidation_0-auc:0.999805\tvalidation_1-auc:0.999672\n",
      "[303]\tvalidation_0-auc:0.999807\tvalidation_1-auc:0.999676\n",
      "[304]\tvalidation_0-auc:0.999808\tvalidation_1-auc:0.999678\n",
      "[305]\tvalidation_0-auc:0.999809\tvalidation_1-auc:0.999679\n",
      "[306]\tvalidation_0-auc:0.99981\tvalidation_1-auc:0.999682\n",
      "[307]\tvalidation_0-auc:0.999811\tvalidation_1-auc:0.999683\n",
      "[308]\tvalidation_0-auc:0.999813\tvalidation_1-auc:0.999683\n",
      "[309]\tvalidation_0-auc:0.999816\tvalidation_1-auc:0.999687\n",
      "[310]\tvalidation_0-auc:0.999816\tvalidation_1-auc:0.999688\n",
      "[311]\tvalidation_0-auc:0.999818\tvalidation_1-auc:0.999689\n",
      "[312]\tvalidation_0-auc:0.99982\tvalidation_1-auc:0.999696\n",
      "[313]\tvalidation_0-auc:0.999824\tvalidation_1-auc:0.999697\n",
      "[314]\tvalidation_0-auc:0.999824\tvalidation_1-auc:0.999698\n",
      "[315]\tvalidation_0-auc:0.999825\tvalidation_1-auc:0.999698\n",
      "[316]\tvalidation_0-auc:0.999827\tvalidation_1-auc:0.999702\n",
      "[317]\tvalidation_0-auc:0.999828\tvalidation_1-auc:0.999705\n",
      "[318]\tvalidation_0-auc:0.99983\tvalidation_1-auc:0.999708\n",
      "[319]\tvalidation_0-auc:0.999833\tvalidation_1-auc:0.999712\n",
      "[320]\tvalidation_0-auc:0.999836\tvalidation_1-auc:0.999717\n",
      "[321]\tvalidation_0-auc:0.999837\tvalidation_1-auc:0.999718\n",
      "[322]\tvalidation_0-auc:0.999839\tvalidation_1-auc:0.999725\n",
      "[323]\tvalidation_0-auc:0.99984\tvalidation_1-auc:0.999728\n",
      "[324]\tvalidation_0-auc:0.999842\tvalidation_1-auc:0.999731\n",
      "[325]\tvalidation_0-auc:0.999844\tvalidation_1-auc:0.999735\n",
      "[326]\tvalidation_0-auc:0.999846\tvalidation_1-auc:0.999737\n",
      "[327]\tvalidation_0-auc:0.999847\tvalidation_1-auc:0.999739\n",
      "[328]\tvalidation_0-auc:0.999848\tvalidation_1-auc:0.999741\n",
      "[329]\tvalidation_0-auc:0.99985\tvalidation_1-auc:0.999744\n",
      "[330]\tvalidation_0-auc:0.999851\tvalidation_1-auc:0.999745\n",
      "[331]\tvalidation_0-auc:0.999852\tvalidation_1-auc:0.999745\n",
      "[332]\tvalidation_0-auc:0.999853\tvalidation_1-auc:0.999745\n",
      "[333]\tvalidation_0-auc:0.999854\tvalidation_1-auc:0.999749\n",
      "[334]\tvalidation_0-auc:0.999857\tvalidation_1-auc:0.999753\n",
      "[335]\tvalidation_0-auc:0.999857\tvalidation_1-auc:0.999754\n",
      "[336]\tvalidation_0-auc:0.999857\tvalidation_1-auc:0.999754\n",
      "[337]\tvalidation_0-auc:0.999859\tvalidation_1-auc:0.999756\n",
      "[338]\tvalidation_0-auc:0.99986\tvalidation_1-auc:0.999755\n",
      "[339]\tvalidation_0-auc:0.999862\tvalidation_1-auc:0.999758\n",
      "[340]\tvalidation_0-auc:0.999865\tvalidation_1-auc:0.99976\n",
      "[341]\tvalidation_0-auc:0.999866\tvalidation_1-auc:0.999761\n",
      "[342]\tvalidation_0-auc:0.999866\tvalidation_1-auc:0.999762\n",
      "[343]\tvalidation_0-auc:0.999867\tvalidation_1-auc:0.999763\n",
      "[344]\tvalidation_0-auc:0.999868\tvalidation_1-auc:0.999765\n",
      "[345]\tvalidation_0-auc:0.999869\tvalidation_1-auc:0.999765\n",
      "[346]\tvalidation_0-auc:0.99987\tvalidation_1-auc:0.999764\n",
      "[347]\tvalidation_0-auc:0.999874\tvalidation_1-auc:0.999768\n",
      "[348]\tvalidation_0-auc:0.999874\tvalidation_1-auc:0.999769\n",
      "[349]\tvalidation_0-auc:0.999876\tvalidation_1-auc:0.99977\n",
      "[350]\tvalidation_0-auc:0.999879\tvalidation_1-auc:0.999773\n",
      "[351]\tvalidation_0-auc:0.999881\tvalidation_1-auc:0.999779\n",
      "[352]\tvalidation_0-auc:0.999881\tvalidation_1-auc:0.99978\n",
      "[353]\tvalidation_0-auc:0.999882\tvalidation_1-auc:0.999781\n",
      "[354]\tvalidation_0-auc:0.999883\tvalidation_1-auc:0.999783\n",
      "[355]\tvalidation_0-auc:0.999884\tvalidation_1-auc:0.999783\n",
      "[356]\tvalidation_0-auc:0.999885\tvalidation_1-auc:0.999786\n",
      "[357]\tvalidation_0-auc:0.999887\tvalidation_1-auc:0.999788\n",
      "[358]\tvalidation_0-auc:0.999889\tvalidation_1-auc:0.999787\n",
      "[359]\tvalidation_0-auc:0.99989\tvalidation_1-auc:0.999788\n",
      "[360]\tvalidation_0-auc:0.999891\tvalidation_1-auc:0.99979\n",
      "[361]\tvalidation_0-auc:0.999892\tvalidation_1-auc:0.999791\n",
      "[362]\tvalidation_0-auc:0.999894\tvalidation_1-auc:0.999794\n",
      "[363]\tvalidation_0-auc:0.999896\tvalidation_1-auc:0.999795\n",
      "[364]\tvalidation_0-auc:0.999897\tvalidation_1-auc:0.999798\n",
      "[365]\tvalidation_0-auc:0.999898\tvalidation_1-auc:0.999799\n",
      "[366]\tvalidation_0-auc:0.9999\tvalidation_1-auc:0.999803\n",
      "[367]\tvalidation_0-auc:0.9999\tvalidation_1-auc:0.999803\n",
      "[368]\tvalidation_0-auc:0.999901\tvalidation_1-auc:0.999806\n",
      "[369]\tvalidation_0-auc:0.999901\tvalidation_1-auc:0.99981\n",
      "[370]\tvalidation_0-auc:0.999903\tvalidation_1-auc:0.999811\n",
      "[371]\tvalidation_0-auc:0.999905\tvalidation_1-auc:0.999815\n",
      "[372]\tvalidation_0-auc:0.999906\tvalidation_1-auc:0.999817\n",
      "[373]\tvalidation_0-auc:0.999908\tvalidation_1-auc:0.999818\n",
      "[374]\tvalidation_0-auc:0.999909\tvalidation_1-auc:0.999817\n",
      "[375]\tvalidation_0-auc:0.999909\tvalidation_1-auc:0.999818\n",
      "[376]\tvalidation_0-auc:0.999909\tvalidation_1-auc:0.999818\n",
      "[377]\tvalidation_0-auc:0.999911\tvalidation_1-auc:0.99982\n",
      "[378]\tvalidation_0-auc:0.999912\tvalidation_1-auc:0.999822\n",
      "[379]\tvalidation_0-auc:0.999912\tvalidation_1-auc:0.999824\n",
      "[380]\tvalidation_0-auc:0.999912\tvalidation_1-auc:0.999825\n",
      "[381]\tvalidation_0-auc:0.999913\tvalidation_1-auc:0.999825\n",
      "[382]\tvalidation_0-auc:0.999914\tvalidation_1-auc:0.999825\n",
      "[383]\tvalidation_0-auc:0.999915\tvalidation_1-auc:0.999826\n",
      "[384]\tvalidation_0-auc:0.999915\tvalidation_1-auc:0.999828\n",
      "[385]\tvalidation_0-auc:0.999916\tvalidation_1-auc:0.99983\n",
      "[386]\tvalidation_0-auc:0.999916\tvalidation_1-auc:0.99983\n",
      "[387]\tvalidation_0-auc:0.999917\tvalidation_1-auc:0.999829\n",
      "[388]\tvalidation_0-auc:0.999918\tvalidation_1-auc:0.999829\n",
      "[389]\tvalidation_0-auc:0.999919\tvalidation_1-auc:0.999832\n",
      "[390]\tvalidation_0-auc:0.999919\tvalidation_1-auc:0.999832\n",
      "[391]\tvalidation_0-auc:0.99992\tvalidation_1-auc:0.999833\n",
      "[392]\tvalidation_0-auc:0.99992\tvalidation_1-auc:0.999834\n",
      "[393]\tvalidation_0-auc:0.999921\tvalidation_1-auc:0.999836\n",
      "[394]\tvalidation_0-auc:0.999922\tvalidation_1-auc:0.999837\n",
      "[395]\tvalidation_0-auc:0.999923\tvalidation_1-auc:0.999838\n",
      "[396]\tvalidation_0-auc:0.999925\tvalidation_1-auc:0.99984\n",
      "[397]\tvalidation_0-auc:0.999926\tvalidation_1-auc:0.999843\n",
      "[398]\tvalidation_0-auc:0.999927\tvalidation_1-auc:0.999846\n",
      "[399]\tvalidation_0-auc:0.999927\tvalidation_1-auc:0.999847\n",
      "[400]\tvalidation_0-auc:0.999928\tvalidation_1-auc:0.999847\n",
      "[401]\tvalidation_0-auc:0.999928\tvalidation_1-auc:0.999848\n",
      "[402]\tvalidation_0-auc:0.999928\tvalidation_1-auc:0.999849\n",
      "[403]\tvalidation_0-auc:0.999929\tvalidation_1-auc:0.999851\n",
      "[404]\tvalidation_0-auc:0.99993\tvalidation_1-auc:0.999852\n",
      "[405]\tvalidation_0-auc:0.99993\tvalidation_1-auc:0.999853\n",
      "[406]\tvalidation_0-auc:0.999931\tvalidation_1-auc:0.999855\n",
      "[407]\tvalidation_0-auc:0.999931\tvalidation_1-auc:0.999857\n",
      "[408]\tvalidation_0-auc:0.999932\tvalidation_1-auc:0.999858\n",
      "[409]\tvalidation_0-auc:0.999933\tvalidation_1-auc:0.999859\n",
      "[410]\tvalidation_0-auc:0.999933\tvalidation_1-auc:0.99986\n",
      "[411]\tvalidation_0-auc:0.999933\tvalidation_1-auc:0.999859\n",
      "[412]\tvalidation_0-auc:0.999935\tvalidation_1-auc:0.999862\n",
      "[413]\tvalidation_0-auc:0.999936\tvalidation_1-auc:0.999864\n",
      "[414]\tvalidation_0-auc:0.999936\tvalidation_1-auc:0.999865\n",
      "[415]\tvalidation_0-auc:0.999937\tvalidation_1-auc:0.999866\n",
      "[416]\tvalidation_0-auc:0.999938\tvalidation_1-auc:0.999866\n",
      "[417]\tvalidation_0-auc:0.999938\tvalidation_1-auc:0.999866\n",
      "[418]\tvalidation_0-auc:0.999938\tvalidation_1-auc:0.999867\n",
      "[419]\tvalidation_0-auc:0.999939\tvalidation_1-auc:0.999869\n",
      "[420]\tvalidation_0-auc:0.999939\tvalidation_1-auc:0.999871\n",
      "[421]\tvalidation_0-auc:0.99994\tvalidation_1-auc:0.999871\n",
      "[422]\tvalidation_0-auc:0.99994\tvalidation_1-auc:0.999872\n",
      "[423]\tvalidation_0-auc:0.999941\tvalidation_1-auc:0.999873\n",
      "[424]\tvalidation_0-auc:0.999941\tvalidation_1-auc:0.999875\n"
     ]
    },
    {
     "name": "stdout",
     "output_type": "stream",
     "text": [
      "[425]\tvalidation_0-auc:0.999941\tvalidation_1-auc:0.999875\n",
      "[426]\tvalidation_0-auc:0.999942\tvalidation_1-auc:0.999877\n",
      "[427]\tvalidation_0-auc:0.999942\tvalidation_1-auc:0.999879\n",
      "[428]\tvalidation_0-auc:0.999942\tvalidation_1-auc:0.999879\n",
      "[429]\tvalidation_0-auc:0.999943\tvalidation_1-auc:0.999879\n",
      "[430]\tvalidation_0-auc:0.999943\tvalidation_1-auc:0.99988\n",
      "[431]\tvalidation_0-auc:0.999943\tvalidation_1-auc:0.999881\n",
      "[432]\tvalidation_0-auc:0.999944\tvalidation_1-auc:0.999881\n",
      "[433]\tvalidation_0-auc:0.999944\tvalidation_1-auc:0.999882\n",
      "[434]\tvalidation_0-auc:0.999945\tvalidation_1-auc:0.999883\n",
      "[435]\tvalidation_0-auc:0.999945\tvalidation_1-auc:0.999883\n",
      "[436]\tvalidation_0-auc:0.999945\tvalidation_1-auc:0.999884\n",
      "[437]\tvalidation_0-auc:0.999946\tvalidation_1-auc:0.999886\n",
      "[438]\tvalidation_0-auc:0.999947\tvalidation_1-auc:0.999887\n",
      "[439]\tvalidation_0-auc:0.999947\tvalidation_1-auc:0.999888\n",
      "[440]\tvalidation_0-auc:0.999948\tvalidation_1-auc:0.99989\n",
      "[441]\tvalidation_0-auc:0.999948\tvalidation_1-auc:0.999891\n",
      "[442]\tvalidation_0-auc:0.999948\tvalidation_1-auc:0.999891\n",
      "[443]\tvalidation_0-auc:0.999949\tvalidation_1-auc:0.999892\n",
      "[444]\tvalidation_0-auc:0.999949\tvalidation_1-auc:0.999894\n",
      "[445]\tvalidation_0-auc:0.99995\tvalidation_1-auc:0.999896\n",
      "[446]\tvalidation_0-auc:0.99995\tvalidation_1-auc:0.999897\n",
      "[447]\tvalidation_0-auc:0.999951\tvalidation_1-auc:0.999897\n",
      "[448]\tvalidation_0-auc:0.999951\tvalidation_1-auc:0.999899\n",
      "[449]\tvalidation_0-auc:0.999951\tvalidation_1-auc:0.999898\n",
      "[450]\tvalidation_0-auc:0.999952\tvalidation_1-auc:0.999898\n",
      "[451]\tvalidation_0-auc:0.999952\tvalidation_1-auc:0.999899\n",
      "[452]\tvalidation_0-auc:0.999952\tvalidation_1-auc:0.9999\n",
      "[453]\tvalidation_0-auc:0.999952\tvalidation_1-auc:0.9999\n",
      "[454]\tvalidation_0-auc:0.999953\tvalidation_1-auc:0.9999\n",
      "[455]\tvalidation_0-auc:0.999953\tvalidation_1-auc:0.999901\n",
      "[456]\tvalidation_0-auc:0.999953\tvalidation_1-auc:0.999901\n",
      "[457]\tvalidation_0-auc:0.999954\tvalidation_1-auc:0.999901\n",
      "[458]\tvalidation_0-auc:0.999955\tvalidation_1-auc:0.999902\n",
      "[459]\tvalidation_0-auc:0.999955\tvalidation_1-auc:0.999902\n",
      "[460]\tvalidation_0-auc:0.999955\tvalidation_1-auc:0.999902\n",
      "[461]\tvalidation_0-auc:0.999956\tvalidation_1-auc:0.999903\n",
      "[462]\tvalidation_0-auc:0.999956\tvalidation_1-auc:0.999904\n",
      "[463]\tvalidation_0-auc:0.999956\tvalidation_1-auc:0.999904\n",
      "[464]\tvalidation_0-auc:0.999957\tvalidation_1-auc:0.999904\n",
      "[465]\tvalidation_0-auc:0.999957\tvalidation_1-auc:0.999904\n",
      "[466]\tvalidation_0-auc:0.999957\tvalidation_1-auc:0.999904\n",
      "[467]\tvalidation_0-auc:0.999958\tvalidation_1-auc:0.999906\n",
      "[468]\tvalidation_0-auc:0.999958\tvalidation_1-auc:0.999906\n",
      "[469]\tvalidation_0-auc:0.999958\tvalidation_1-auc:0.999907\n",
      "[470]\tvalidation_0-auc:0.999959\tvalidation_1-auc:0.999906\n",
      "[471]\tvalidation_0-auc:0.999959\tvalidation_1-auc:0.999906\n",
      "[472]\tvalidation_0-auc:0.999959\tvalidation_1-auc:0.999906\n",
      "[473]\tvalidation_0-auc:0.99996\tvalidation_1-auc:0.999907\n",
      "[474]\tvalidation_0-auc:0.99996\tvalidation_1-auc:0.999908\n",
      "[475]\tvalidation_0-auc:0.99996\tvalidation_1-auc:0.999909\n",
      "[476]\tvalidation_0-auc:0.99996\tvalidation_1-auc:0.999909\n",
      "[477]\tvalidation_0-auc:0.99996\tvalidation_1-auc:0.999908\n",
      "[478]\tvalidation_0-auc:0.999961\tvalidation_1-auc:0.999909\n",
      "[479]\tvalidation_0-auc:0.999961\tvalidation_1-auc:0.999909\n",
      "[480]\tvalidation_0-auc:0.999961\tvalidation_1-auc:0.999909\n",
      "[481]\tvalidation_0-auc:0.999961\tvalidation_1-auc:0.999909\n",
      "[482]\tvalidation_0-auc:0.999961\tvalidation_1-auc:0.99991\n",
      "[483]\tvalidation_0-auc:0.999962\tvalidation_1-auc:0.999911\n",
      "[484]\tvalidation_0-auc:0.999962\tvalidation_1-auc:0.99991\n",
      "[485]\tvalidation_0-auc:0.999962\tvalidation_1-auc:0.999911\n",
      "[486]\tvalidation_0-auc:0.999963\tvalidation_1-auc:0.999912\n",
      "[487]\tvalidation_0-auc:0.999963\tvalidation_1-auc:0.999913\n",
      "[488]\tvalidation_0-auc:0.999963\tvalidation_1-auc:0.999913\n",
      "[489]\tvalidation_0-auc:0.999964\tvalidation_1-auc:0.999913\n",
      "[490]\tvalidation_0-auc:0.999964\tvalidation_1-auc:0.999914\n",
      "[491]\tvalidation_0-auc:0.999964\tvalidation_1-auc:0.999914\n",
      "[492]\tvalidation_0-auc:0.999964\tvalidation_1-auc:0.999914\n",
      "[493]\tvalidation_0-auc:0.999964\tvalidation_1-auc:0.999914\n",
      "[494]\tvalidation_0-auc:0.999964\tvalidation_1-auc:0.999914\n",
      "[495]\tvalidation_0-auc:0.999964\tvalidation_1-auc:0.999915\n",
      "[496]\tvalidation_0-auc:0.999965\tvalidation_1-auc:0.999916\n",
      "[497]\tvalidation_0-auc:0.999965\tvalidation_1-auc:0.999916\n",
      "[498]\tvalidation_0-auc:0.999965\tvalidation_1-auc:0.999916\n",
      "[499]\tvalidation_0-auc:0.999966\tvalidation_1-auc:0.999917\n",
      "[500]\tvalidation_0-auc:0.999966\tvalidation_1-auc:0.999918\n",
      "[501]\tvalidation_0-auc:0.999966\tvalidation_1-auc:0.999919\n",
      "[502]\tvalidation_0-auc:0.999966\tvalidation_1-auc:0.999919\n",
      "[503]\tvalidation_0-auc:0.999967\tvalidation_1-auc:0.999919\n",
      "[504]\tvalidation_0-auc:0.999967\tvalidation_1-auc:0.999919\n",
      "[505]\tvalidation_0-auc:0.999967\tvalidation_1-auc:0.99992\n",
      "[506]\tvalidation_0-auc:0.999967\tvalidation_1-auc:0.99992\n",
      "[507]\tvalidation_0-auc:0.999967\tvalidation_1-auc:0.99992\n",
      "[508]\tvalidation_0-auc:0.999967\tvalidation_1-auc:0.99992\n",
      "[509]\tvalidation_0-auc:0.999968\tvalidation_1-auc:0.999921\n",
      "[510]\tvalidation_0-auc:0.999968\tvalidation_1-auc:0.99992\n",
      "[511]\tvalidation_0-auc:0.999968\tvalidation_1-auc:0.999921\n",
      "[512]\tvalidation_0-auc:0.999969\tvalidation_1-auc:0.999921\n",
      "[513]\tvalidation_0-auc:0.999969\tvalidation_1-auc:0.999921\n",
      "[514]\tvalidation_0-auc:0.999969\tvalidation_1-auc:0.999921\n",
      "[515]\tvalidation_0-auc:0.999969\tvalidation_1-auc:0.999922\n",
      "[516]\tvalidation_0-auc:0.999969\tvalidation_1-auc:0.999922\n",
      "[517]\tvalidation_0-auc:0.999969\tvalidation_1-auc:0.999922\n",
      "[518]\tvalidation_0-auc:0.999969\tvalidation_1-auc:0.999922\n",
      "[519]\tvalidation_0-auc:0.999969\tvalidation_1-auc:0.999923\n",
      "[520]\tvalidation_0-auc:0.999969\tvalidation_1-auc:0.999924\n",
      "[521]\tvalidation_0-auc:0.99997\tvalidation_1-auc:0.999924\n",
      "[522]\tvalidation_0-auc:0.99997\tvalidation_1-auc:0.999924\n",
      "[523]\tvalidation_0-auc:0.99997\tvalidation_1-auc:0.999924\n",
      "[524]\tvalidation_0-auc:0.99997\tvalidation_1-auc:0.999925\n",
      "[525]\tvalidation_0-auc:0.99997\tvalidation_1-auc:0.999925\n",
      "[526]\tvalidation_0-auc:0.99997\tvalidation_1-auc:0.999925\n",
      "[527]\tvalidation_0-auc:0.999971\tvalidation_1-auc:0.999926\n",
      "[528]\tvalidation_0-auc:0.999971\tvalidation_1-auc:0.999926\n",
      "[529]\tvalidation_0-auc:0.999971\tvalidation_1-auc:0.999926\n",
      "[530]\tvalidation_0-auc:0.999971\tvalidation_1-auc:0.999926\n",
      "[531]\tvalidation_0-auc:0.999971\tvalidation_1-auc:0.999925\n",
      "[532]\tvalidation_0-auc:0.999971\tvalidation_1-auc:0.999926\n",
      "[533]\tvalidation_0-auc:0.999971\tvalidation_1-auc:0.999926\n",
      "[534]\tvalidation_0-auc:0.999972\tvalidation_1-auc:0.999926\n",
      "[535]\tvalidation_0-auc:0.999972\tvalidation_1-auc:0.999927\n",
      "[536]\tvalidation_0-auc:0.999972\tvalidation_1-auc:0.999927\n",
      "[537]\tvalidation_0-auc:0.999972\tvalidation_1-auc:0.999928\n",
      "[538]\tvalidation_0-auc:0.999972\tvalidation_1-auc:0.999928\n",
      "[539]\tvalidation_0-auc:0.999973\tvalidation_1-auc:0.999928\n",
      "[540]\tvalidation_0-auc:0.999973\tvalidation_1-auc:0.99993\n",
      "[541]\tvalidation_0-auc:0.999973\tvalidation_1-auc:0.99993\n",
      "[542]\tvalidation_0-auc:0.999973\tvalidation_1-auc:0.99993\n",
      "[543]\tvalidation_0-auc:0.999974\tvalidation_1-auc:0.999932\n",
      "[544]\tvalidation_0-auc:0.999974\tvalidation_1-auc:0.999933\n",
      "[545]\tvalidation_0-auc:0.999974\tvalidation_1-auc:0.999933\n",
      "[546]\tvalidation_0-auc:0.999974\tvalidation_1-auc:0.999933\n",
      "[547]\tvalidation_0-auc:0.999974\tvalidation_1-auc:0.999933\n",
      "[548]\tvalidation_0-auc:0.999974\tvalidation_1-auc:0.999934\n",
      "[549]\tvalidation_0-auc:0.999974\tvalidation_1-auc:0.999934\n",
      "[550]\tvalidation_0-auc:0.999974\tvalidation_1-auc:0.999934\n",
      "[551]\tvalidation_0-auc:0.999974\tvalidation_1-auc:0.999935\n",
      "[552]\tvalidation_0-auc:0.999975\tvalidation_1-auc:0.999935\n",
      "[553]\tvalidation_0-auc:0.999975\tvalidation_1-auc:0.999937\n",
      "[554]\tvalidation_0-auc:0.999975\tvalidation_1-auc:0.999937\n",
      "[555]\tvalidation_0-auc:0.999975\tvalidation_1-auc:0.999937\n",
      "[556]\tvalidation_0-auc:0.999975\tvalidation_1-auc:0.999937\n",
      "[557]\tvalidation_0-auc:0.999976\tvalidation_1-auc:0.999938\n",
      "[558]\tvalidation_0-auc:0.999976\tvalidation_1-auc:0.999937\n",
      "[559]\tvalidation_0-auc:0.999976\tvalidation_1-auc:0.999938\n",
      "[560]\tvalidation_0-auc:0.999976\tvalidation_1-auc:0.999939\n",
      "[561]\tvalidation_0-auc:0.999977\tvalidation_1-auc:0.999939\n",
      "[562]\tvalidation_0-auc:0.999977\tvalidation_1-auc:0.999939\n",
      "[563]\tvalidation_0-auc:0.999977\tvalidation_1-auc:0.999939\n",
      "[564]\tvalidation_0-auc:0.999977\tvalidation_1-auc:0.99994\n",
      "[565]\tvalidation_0-auc:0.999977\tvalidation_1-auc:0.99994\n",
      "[566]\tvalidation_0-auc:0.999977\tvalidation_1-auc:0.999941\n"
     ]
    },
    {
     "name": "stdout",
     "output_type": "stream",
     "text": [
      "[567]\tvalidation_0-auc:0.999977\tvalidation_1-auc:0.999941\n",
      "[568]\tvalidation_0-auc:0.999977\tvalidation_1-auc:0.999941\n",
      "[569]\tvalidation_0-auc:0.999977\tvalidation_1-auc:0.999942\n",
      "[570]\tvalidation_0-auc:0.999977\tvalidation_1-auc:0.999942\n",
      "[571]\tvalidation_0-auc:0.999978\tvalidation_1-auc:0.999942\n",
      "[572]\tvalidation_0-auc:0.999978\tvalidation_1-auc:0.999942\n",
      "[573]\tvalidation_0-auc:0.999978\tvalidation_1-auc:0.999942\n",
      "[574]\tvalidation_0-auc:0.999978\tvalidation_1-auc:0.999942\n",
      "[575]\tvalidation_0-auc:0.999978\tvalidation_1-auc:0.999941\n",
      "[576]\tvalidation_0-auc:0.999978\tvalidation_1-auc:0.999942\n",
      "[577]\tvalidation_0-auc:0.999979\tvalidation_1-auc:0.999942\n",
      "[578]\tvalidation_0-auc:0.999979\tvalidation_1-auc:0.999942\n",
      "[579]\tvalidation_0-auc:0.999979\tvalidation_1-auc:0.999942\n",
      "Stopping. Best iteration:\n",
      "[569]\tvalidation_0-auc:0.999977\tvalidation_1-auc:0.999942\n",
      "\n"
     ]
    },
    {
     "data": {
      "text/plain": [
       "XGBClassifier(base_score=0.5, booster='gbtree', colsample_bylevel=1,\n",
       "       colsample_bytree=1, gamma=0, learning_rate=0.1, max_delta_step=0,\n",
       "       max_depth=20, min_child_weight=1, missing=None, n_estimators=1000,\n",
       "       n_jobs=4, nthread=None, objective='binary:logistic', random_state=0,\n",
       "       reg_alpha=0, reg_lambda=1, scale_pos_weight=1, seed=None,\n",
       "       silent=True, slient=False, subsample=1)"
      ]
     },
     "execution_count": 171,
     "metadata": {},
     "output_type": "execute_result"
    }
   ],
   "source": [
    "xgb_model.fit(train_set, train_label,eval_metric=\"auc\",\n",
    "               eval_set=eval_set, verbose=True, early_stopping_rounds=10)"
   ]
  },
  {
   "cell_type": "markdown",
   "metadata": {},
   "source": [
    "## Logistic regression model (158 clicks on test)"
   ]
  },
  {
   "cell_type": "code",
   "execution_count": 74,
   "metadata": {
    "collapsed": true
   },
   "outputs": [],
   "source": [
    "lr_model = LogisticRegression(penalty='l2', dual=False, tol=0.0001, C=1.0, fit_intercept=True, \\\n",
    "                              intercept_scaling=1, class_weight=None, random_state=None, solver='liblinear', \\\n",
    "                              max_iter=100, multi_class='ovr', verbose=0, warm_start=False, n_jobs=1)"
   ]
  },
  {
   "cell_type": "code",
   "execution_count": 75,
   "metadata": {},
   "outputs": [
    {
     "data": {
      "text/plain": [
       "LogisticRegression(C=1.0, class_weight=None, dual=False, fit_intercept=True,\n",
       "          intercept_scaling=1, max_iter=100, multi_class='ovr', n_jobs=1,\n",
       "          penalty='l2', random_state=None, solver='liblinear', tol=0.0001,\n",
       "          verbose=0, warm_start=False)"
      ]
     },
     "execution_count": 75,
     "metadata": {},
     "output_type": "execute_result"
    }
   ],
   "source": [
    "lr_model.fit(train_set,train_label)"
   ]
  },
  {
   "cell_type": "markdown",
   "metadata": {},
   "source": [
    "# Evaluation"
   ]
  },
  {
   "cell_type": "code",
   "execution_count": 109,
   "metadata": {
    "collapsed": true
   },
   "outputs": [],
   "source": [
    "def evaluate(bidprice):\n",
    "    budget=6250\n",
    "    impression=0\n",
    "    click=0\n",
    "    for row in range(0,validation.shape[0]):\n",
    "        if budget<validation.payprice[row]:\n",
    "            continue\n",
    "        if bidprice.iloc[row,0]>validation.payprice[row]:\n",
    "            budget=budget-validation.payprice[row]/1000\n",
    "            impression=impression+1\n",
    "            if validation.click[row]==1:\n",
    "                click=click+1\n",
    "                cost=6250-budget\n",
    "    return click,(click/impression),cost,(cost/impression),(cost/click)"
   ]
  },
  {
   "cell_type": "code",
   "execution_count": 36,
   "metadata": {
    "collapsed": true
   },
   "outputs": [],
   "source": [
    "def pred_ctr_calibration(pred_ctr):\n",
    "    return pred_ctr/(pred_ctr+(1-pred_ctr)/downsampling_rate)"
   ]
  },
  {
   "cell_type": "code",
   "execution_count": 37,
   "metadata": {
    "collapsed": true
   },
   "outputs": [],
   "source": [
    "number_of_click=len(train[train.click==1])\n",
    "number_of_impression=len(train[train.bidprice>train.payprice])"
   ]
  },
  {
   "cell_type": "markdown",
   "metadata": {},
   "source": [
    "## Bidding strategies: linear and ortb"
   ]
  },
  {
   "cell_type": "code",
   "execution_count": null,
   "metadata": {
    "collapsed": true
   },
   "outputs": [],
   "source": [
    "def bid_linear(base_bid, p_ctr, avg_ctr):\n",
    "    \n",
    "    return (base_bid*p_ctr/avg_ctr)"
   ]
  },
  {
   "cell_type": "code",
   "execution_count": null,
   "metadata": {
    "collapsed": true
   },
   "outputs": [],
   "source": [
    "def ortb(c,p_ctr,lamada):\n",
    "    return(np.sqrt((c*p_ctr/lamada)+np.square(c))-c)"
   ]
  },
  {
   "cell_type": "code",
   "execution_count": null,
   "metadata": {
    "collapsed": true
   },
   "outputs": [],
   "source": [
    "def ortb1(c,p_ctr,lamada):\n",
    "    a=np.sqrt(np.square(c)*np.square(lamada)+np.square(p_ctr))\n",
    "    b=np.cbrt((p_ctr+a)/(c*lamada))\n",
    "    d=np.cbrt((c*lamada)/(p_ctr+a))\n",
    "    return(c*(b-d))"
   ]
  },
  {
   "cell_type": "markdown",
   "metadata": {},
   "source": [
    "### GBoost Evaluation on validation dataset"
   ]
  },
  {
   "cell_type": "code",
   "execution_count": 55,
   "metadata": {
    "collapsed": true
   },
   "outputs": [],
   "source": [
    "#base_bid=0.51 no predCTR calibration\n",
    "avg_ctr=number_of_click/number_of_impression\n",
    "predCTR=pd.DataFrame(gb_pred_ctr)\n",
    "predCTR_calibrated=pred_ctr_calibration(predCTR)"
   ]
  },
  {
   "cell_type": "code",
   "execution_count": 110,
   "metadata": {},
   "outputs": [
    {
     "name": "stdout",
     "output_type": "stream",
     "text": [
      "basebid  155  click  (166, 0.0013264083100279665, 6155.8370000021778, 0.049187670795063344, 37.083355421699864)\n",
      "basebid  156  click  (165, 0.0013140290519877676, 6175.1700000021701, 0.049177895642219117, 37.425272727285879)\n",
      "basebid  157  click  (164, 0.001302693557227169, 6162.1800000021631, 0.048947757222420334, 37.574268292696118)\n",
      "basebid  158  click  (163, 0.0012925019030702867, 6157.3400000021556, 0.048824378330390092, 37.775092024553103)\n",
      "basebid  159  click  (163, 0.0012906495213511437, 6170.4800000021451, 0.048858448211715179, 37.855705521485554)\n"
     ]
    }
   ],
   "source": [
    "for counter in range(155,160,1):\n",
    "    base_bid=counter\n",
    "    bidprice=bid_linear(base_bid, predCTR_calibrated, avg_ctr)\n",
    "    print('basebid ', base_bid, ' click ', evaluate(bidprice))"
   ]
  },
  {
   "cell_type": "code",
   "execution_count": 57,
   "metadata": {
    "collapsed": true
   },
   "outputs": [],
   "source": [
    "GB_ctr_test=[]\n",
    "for a, b in model_gb.predict_proba(test_set):\n",
    "    GB_ctr_test.append(b)\n",
    "GBpredCTR_test=pd.DataFrame(GB_ctr_test)\n",
    "GBpredCTR_calibrated_test=pred_ctr_calibration(GBpredCTR_test)\n",
    "bidprice=bid_linear(140, GBpredCTR_calibrated_test, avg_ctr)"
   ]
  },
  {
   "cell_type": "code",
   "execution_count": 58,
   "metadata": {
    "collapsed": true
   },
   "outputs": [],
   "source": [
    "group8_new=pd.read_csv(\"/Users/dingding/Desktop/we_data/Group_8.csv\")\n",
    "group8_new['bidprice']=bidprice\n",
    "group8_new.to_csv(\"/Users/dingding/Desktop/Group_8.csv\")"
   ]
  },
  {
   "cell_type": "markdown",
   "metadata": {},
   "source": [
    "## Best XGBoost Evaluation on validation dataset"
   ]
  },
  {
   "cell_type": "code",
   "execution_count": 32,
   "metadata": {},
   "outputs": [
    {
     "name": "stdout",
     "output_type": "stream",
     "text": [
      "AUC: 0.894264072302\n"
     ]
    }
   ],
   "source": [
    "ctr=[]\n",
    "for a, b in model_XGB.predict_proba(validation_set):\n",
    "    ctr.append(b)\n",
    "auc=roc_auc_score(validation_label, ctr)\n",
    "print('AUC:',auc)"
   ]
  },
  {
   "cell_type": "code",
   "execution_count": 111,
   "metadata": {},
   "outputs": [
    {
     "name": "stdout",
     "output_type": "stream",
     "text": [
      "basebid  105  click  (164, 0.0011463881782214206, 6105.013000002542, 0.042675089823725636, 37.225689024405746)\n",
      "basebid  106  click  (164, 0.0011388730712073444, 6166.4960000025367, 0.042822294134821297, 37.600585365869129)\n"
     ]
    }
   ],
   "source": [
    "avg_ctr=number_of_click/number_of_impression\n",
    "predCTR=pd.DataFrame(ctr)\n",
    "pred_calibrated=pred_ctr_calibration(predCTR)\n",
    "for counter in range(105,107,1):\n",
    "    base_bid=counter\n",
    "    bidprice=bid_linear(base_bid, pred_calibrated, avg_ctr)\n",
    "    print('basebid ', base_bid, ' click ', evaluate(bidprice))"
   ]
  },
  {
   "cell_type": "code",
   "execution_count": 41,
   "metadata": {
    "collapsed": true
   },
   "outputs": [],
   "source": [
    "pred_ctr_test=[]\n",
    "for a, b in model_XGB.predict_proba(test_set):\n",
    "    pred_ctr_test.append(b)\n",
    "predCTR_test=pd.DataFrame(pred_ctr_test)\n",
    "predCTR_calibrated_test=pred_ctr_calibration(predCTR_test)\n",
    "bidprice=bid_linear(106, predCTR_calibrated_test, avg_ctr)\n"
   ]
  },
  {
   "cell_type": "code",
   "execution_count": 42,
   "metadata": {
    "collapsed": true
   },
   "outputs": [],
   "source": [
    "group8=pd.read_csv(\"/Users/dingding/Desktop/we_data/Group_8.csv\")\n",
    "group8['bidprice']=bidprice\n",
    "group8.to_csv(\"/Users/dingding/Desktop/we_data/Group_8.csv\")"
   ]
  },
  {
   "cell_type": "markdown",
   "metadata": {},
   "source": [
    "## Logistic Regression Evaluation on validation dataset"
   ]
  },
  {
   "cell_type": "code",
   "execution_count": 76,
   "metadata": {},
   "outputs": [
    {
     "name": "stdout",
     "output_type": "stream",
     "text": [
      "AUC: 0.812045086483\n"
     ]
    }
   ],
   "source": [
    "lr_ctr=[]\n",
    "for a, b in lr_model.predict_proba(validation_set):\n",
    "    lr_ctr.append(b)\n",
    "auc=roc_auc_score(validation_label, lr_ctr)\n",
    "print('AUC:',auc)"
   ]
  },
  {
   "cell_type": "code",
   "execution_count": null,
   "metadata": {
    "collapsed": true
   },
   "outputs": [],
   "source": []
  },
  {
   "cell_type": "markdown",
   "metadata": {},
   "source": [
    "## Ortb evaluation "
   ]
  },
  {
   "cell_type": "code",
   "execution_count": 112,
   "metadata": {},
   "outputs": [
    {
     "name": "stdout",
     "output_type": "stream",
     "text": [
      "c  7 lamada 5.6e-07  click  (156, 0.001016379344044408, 6064.5730000028516, 0.039512222613155935, 38.87546794873623)\n",
      "c  7 lamada 5.7e-07  click  (155, 0.001019046304149162, 5973.7000000028702, 0.039274044561927575, 38.540000000018516)\n"
     ]
    }
   ],
   "source": [
    "gb_pred_ctr=pd.DataFrame(ctr)\n",
    "pred_calibrated=pred_ctr_calibration(predCTR)\n",
    "for lamda in np.arange(0.00000056,0.00000057,0.00000001):\n",
    "    for c in range(7,8,1):\n",
    "        bidprice=ortb(c, pred_calibrated, lamda)\n",
    "        print('c ', c,'lamada',lamda, ' click ', evaluate(bidprice))"
   ]
  },
  {
   "cell_type": "code",
   "execution_count": 113,
   "metadata": {},
   "outputs": [
    {
     "name": "stdout",
     "output_type": "stream",
     "text": [
      "c  17 lamada 6.3e-07  click  (148, 0.0009266273893525504, 6172.2460000028805, 0.038644406739353994, 41.704364864884326)\n",
      "c  18 lamada 6.3e-07  click  (135, 0.0008578509245726632, 6231.6230000027645, 0.039598544830671441, 46.160170370390851)\n",
      "c  17 lamada 6.4e-07  click  (147, 0.0009227061024141004, 6138.4020000029241, 0.038530210778732088, 41.75783673471377)\n",
      "c  18 lamada 6.4e-07  click  (137, 0.0008675718121485384, 6225.8780000027718, 0.039426250063343965, 45.444364963523881)\n"
     ]
    }
   ],
   "source": [
    "for lamda in np.arange(0.00000063,0.00000064,0.00000001):\n",
    "    for c in range(17,19,1):\n",
    "        bidprice=ortb1(c, pred_calibrated, lamda)\n",
    "        print('c ', c,'lamada',lamda, ' click ', evaluate(bidprice))"
   ]
  },
  {
   "cell_type": "code",
   "execution_count": 116,
   "metadata": {},
   "outputs": [
    {
     "name": "stdout",
     "output_type": "stream",
     "text": [
      "c  7 lamada 5.6e-07  click  (156, 0.001016379344044408, 6064.5730000028516, 0.039512222613155935, 38.87546794873623)\n",
      "c  7 lamada 5.7e-07  click  (155, 0.001019046304149162, 5973.7000000028702, 0.039274044561927575, 38.540000000018516)\n"
     ]
    }
   ],
   "source": [
    "gb_pred_ctr=pd.DataFrame(gb_pred_ctr)\n",
    "gb_pred_calibrated=pred_ctr_calibration(predCTR)\n",
    "for lamda in np.arange(0.00000056,0.00000057,0.00000001):\n",
    "    for c in range(7,8,1):\n",
    "        bidprice=ortb(c, gb_pred_calibrated, lamda)\n",
    "        print('c ', c,'lamada',lamda, ' click ', evaluate(bidprice))"
   ]
  },
  {
   "cell_type": "code",
   "execution_count": 117,
   "metadata": {},
   "outputs": [
    {
     "name": "stdout",
     "output_type": "stream",
     "text": [
      "c  17 lamada 6.3e-07  click  (148, 0.0009266273893525504, 6172.2460000028805, 0.038644406739353994, 41.704364864884326)\n",
      "c  18 lamada 6.3e-07  click  (135, 0.0008578509245726632, 6231.6230000027645, 0.039598544830671441, 46.160170370390851)\n",
      "c  17 lamada 6.4e-07  click  (147, 0.0009227061024141004, 6138.4020000029241, 0.038530210778732088, 41.75783673471377)\n",
      "c  18 lamada 6.4e-07  click  (137, 0.0008675718121485384, 6225.8780000027718, 0.039426250063343965, 45.444364963523881)\n"
     ]
    }
   ],
   "source": [
    "for lamda in np.arange(0.00000063,0.00000064,0.00000001):\n",
    "    for c in range(17,19,1):\n",
    "        bidprice=ortb1(c, gb_pred_calibrated, lamda)\n",
    "        print('c ', c,'lamada',lamda, ' click ', evaluate(bidprice))"
   ]
  },
  {
   "cell_type": "code",
   "execution_count": null,
   "metadata": {
    "collapsed": true
   },
   "outputs": [],
   "source": []
  }
 ],
 "metadata": {
  "kernelspec": {
   "display_name": "Python [default]",
   "language": "python",
   "name": "python3"
  },
  "language_info": {
   "codemirror_mode": {
    "name": "ipython",
    "version": 3
   },
   "file_extension": ".py",
   "mimetype": "text/x-python",
   "name": "python",
   "nbconvert_exporter": "python",
   "pygments_lexer": "ipython3",
   "version": "3.5.3"
  }
 },
 "nbformat": 4,
 "nbformat_minor": 2
}
