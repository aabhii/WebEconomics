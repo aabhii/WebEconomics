{
 "cells": [
  {
   "cell_type": "code",
   "execution_count": 1,
   "metadata": {},
   "outputs": [],
   "source": [
    "import math\n",
    "import numpy as np\n",
    "import pandas as pd\n",
    "import matplotlib.pyplot as plt\n",
    "import scipy.stats as stats\n",
    "import seaborn as sns\n",
    "import xgboost as xgb\n",
    "\n",
    "from scipy.sparse import hstack\n",
    "from xgboost.sklearn import XGBClassifier\n",
    "from sklearn.feature_extraction.text import CountVectorizer\n",
    "from sklearn.linear_model import LogisticRegression\n",
    "from sklearn.ensemble import RandomForestClassifier, ExtraTreesClassifier\n",
    "from collections import Counter\n",
    "from sklearn.metrics import roc_auc_score, mean_squared_error\n",
    "from sklearn.model_selection import train_test_split"
   ]
  },
  {
   "cell_type": "code",
   "execution_count": 2,
   "metadata": {},
   "outputs": [],
   "source": [
    "train=pd.read_csv('D:\\\\web_economics_data\\\\train.csv')"
   ]
  },
  {
   "cell_type": "code",
   "execution_count": 3,
   "metadata": {},
   "outputs": [],
   "source": [
    "validation=pd.read_csv('D:\\\\web_economics_data\\\\validation.csv')"
   ]
  },
  {
   "cell_type": "code",
   "execution_count": 4,
   "metadata": {},
   "outputs": [],
   "source": [
    "test=pd.read_csv('D:\\\\web_economics_data\\\\test.csv')"
   ]
  },
  {
   "cell_type": "code",
   "execution_count": 5,
   "metadata": {},
   "outputs": [],
   "source": [
    "def preprocessData(data):\n",
    "    click=data['click']\n",
    "    weekday=pd.get_dummies(data['weekday'],prefix='weekday_')\n",
    "    hour=pd.get_dummies(data['hour'],prefix='hour_')\n",
    "    useragent=pd.get_dummies(data['useragent'],prefix='useragent_')\n",
    "    region=pd.get_dummies(data['region'],prefix='region_')\n",
    "    city=pd.get_dummies(data['city'],prefix='city_')\n",
    "    adexchange=pd.get_dummies(data['adexchange'],prefix='adexchange_')\n",
    "    slotwidth=pd.get_dummies(data['slotwidth'],prefix='slotwidth_')\n",
    "    slotheight=pd.get_dummies(data['slotheight'],prefix='slotheight_')\n",
    "    slotvisibility=pd.get_dummies(data['slotvisibility'],prefix='slotvisibility_')\n",
    "    slotformat=pd.get_dummies(data['slotformat'],prefix='slotformat_')\n",
    "    slotprice=data['slotprice']\n",
    "    creative=pd.get_dummies(data['creative'],prefix='creative_')\n",
    "    keypage=pd.get_dummies(data['keypage'],prefix='keypage_')\n",
    "    advertiser=pd.get_dummies(data['advertiser'],prefix='advertiser_')\n",
    "    \n",
    "    data_usertag=data.usertag.fillna('0')\n",
    "    data_usertag=data_usertag.str.replace(',',' ')\n",
    "    vect=CountVectorizer()\n",
    "    data_usertag_vect=vect.fit_transform(data_usertag)\n",
    "    usertag=pd.DataFrame(data_usertag_vect.toarray(),columns=vect.get_feature_names())\n",
    "    \n",
    "    newdata=pd.concat([click,weekday,hour,useragent,region,city,adexchange,\\\n",
    "                       slotwidth,slotheight,slotvisibility,slotformat,\\\n",
    "                       slotprice,creative,keypage,advertiser,usertag],axis=1)\n",
    "    \n",
    "    return newdata"
   ]
  },
  {
   "cell_type": "code",
   "execution_count": 6,
   "metadata": {},
   "outputs": [],
   "source": [
    "def preprocessTestData(data):\n",
    "    weekday=pd.get_dummies(data['weekday'],prefix='weekday_')\n",
    "    hour=pd.get_dummies(data['hour'],prefix='hour_')\n",
    "    useragent=pd.get_dummies(data['useragent'],prefix='useragent_')\n",
    "    region=pd.get_dummies(data['region'],prefix='region_')\n",
    "    city=pd.get_dummies(data['city'],prefix='city_')\n",
    "    adexchange=pd.get_dummies(data['adexchange'],prefix='adexchange_')\n",
    "    slotwidth=pd.get_dummies(data['slotwidth'],prefix='slotwidth_')\n",
    "    slotheight=pd.get_dummies(data['slotheight'],prefix='slotheight_')\n",
    "    slotvisibility=pd.get_dummies(data['slotvisibility'],prefix='slotvisibility_')\n",
    "    slotformat=pd.get_dummies(data['slotformat'],prefix='slotformat_')\n",
    "    slotprice=data['slotprice']\n",
    "    creative=pd.get_dummies(data['creative'],prefix='creative_')\n",
    "    keypage=pd.get_dummies(data['keypage'],prefix='keypage_')\n",
    "    advertiser=pd.get_dummies(data['advertiser'],prefix='advertiser_')\n",
    "    \n",
    "    data_usertag=data.usertag.fillna('0')\n",
    "    data_usertag=data_usertag.str.replace(',',' ')\n",
    "    vect=CountVectorizer()\n",
    "    data_usertag_vect=vect.fit_transform(data_usertag)\n",
    "    usertag=pd.DataFrame(data_usertag_vect.toarray(),columns=vect.get_feature_names())\n",
    "    \n",
    "    newdata=pd.concat([weekday,hour,useragent,region,city,adexchange,\\\n",
    "                       slotwidth,slotheight,slotvisibility,slotformat,\\\n",
    "                       slotprice,creative,keypage,advertiser,usertag],axis=1)\n",
    "    \n",
    "    return newdata"
   ]
  },
  {
   "cell_type": "code",
   "execution_count": null,
   "metadata": {},
   "outputs": [],
   "source": [
    "train_processed=preprocessData(train)"
   ]
  },
  {
   "cell_type": "code",
   "execution_count": null,
   "metadata": {},
   "outputs": [],
   "source": [
    "validation_processed=preprocessData(validation)"
   ]
  },
  {
   "cell_type": "code",
   "execution_count": null,
   "metadata": {},
   "outputs": [],
   "source": [
    "test_processed=preprocessTestData(test)"
   ]
  },
  {
   "cell_type": "code",
   "execution_count": null,
   "metadata": {},
   "outputs": [],
   "source": [
    "train_features=list(train_processed)\n",
    "validation_features=list(validation_processed)\n",
    "test_features=list(test_processed)"
   ]
  },
  {
   "cell_type": "code",
   "execution_count": null,
   "metadata": {},
   "outputs": [],
   "source": [
    "city=pd.get_dummies(train['city'],prefix='city_')"
   ]
  },
  {
   "cell_type": "code",
   "execution_count": null,
   "metadata": {},
   "outputs": [],
   "source": [
    "creative=pd.get_dummies(train['creative'],prefix='creative_')"
   ]
  },
  {
   "cell_type": "code",
   "execution_count": null,
   "metadata": {},
   "outputs": [],
   "source": [
    "remove_features=['click', 'useragent__android_maxthon', 'useragent__linux_ie', 'creative__7324', 'useragent__other_firefox',\\\n",
    "                 'creative__7332', 'creative__7327', 'useragent__android_ie', 'useragent__mac_sogou', 'useragent__mac_maxthon']\\\n",
    "                +list(city)+list(creative)\n",
    "feature=[]\n",
    "for i in train_features:\n",
    "    if(i not in remove_features):\n",
    "        feature.append(i)"
   ]
  },
  {
   "cell_type": "code",
   "execution_count": 373,
   "metadata": {},
   "outputs": [
    {
     "data": {
      "text/plain": [
       "248"
      ]
     },
     "execution_count": 373,
     "metadata": {},
     "output_type": "execute_result"
    }
   ],
   "source": [
    "len(feature)"
   ]
  },
  {
   "cell_type": "markdown",
   "metadata": {},
   "source": [
    "# Train Model"
   ]
  },
  {
   "cell_type": "code",
   "execution_count": 16,
   "metadata": {},
   "outputs": [],
   "source": [
    "downsampling_rate=0.025"
   ]
  },
  {
   "cell_type": "code",
   "execution_count": 17,
   "metadata": {},
   "outputs": [],
   "source": [
    "train_not_clicked = train_processed[train_processed.click == 0].sample(n= round(downsampling_rate*2429188), random_state = 2)\n",
    "train_clicked = train_processed[train_processed.click == 1]\n",
    "train_sample = pd.concat([train_clicked,train_not_clicked],0)"
   ]
  },
  {
   "cell_type": "code",
   "execution_count": 374,
   "metadata": {},
   "outputs": [],
   "source": [
    "train_set=train_sample[feature]\n",
    "train_label=train_sample['click']\n",
    "validation_set=validation_processed[feature]\n",
    "validation_label=validation_processed['click']\n",
    "test_set=test_processed[feature]"
   ]
  },
  {
   "cell_type": "markdown",
   "metadata": {},
   "source": [
    "### Logistic Regression"
   ]
  },
  {
   "cell_type": "code",
   "execution_count": 367,
   "metadata": {},
   "outputs": [],
   "source": [
    "lr_model = LogisticRegression(penalty='l2', dual=False, tol=0.0001, C=1.0, fit_intercept=True, \\\n",
    "                              intercept_scaling=1, class_weight='balanced', random_state=None, solver='liblinear', \\\n",
    "                              max_iter=100, multi_class='ovr', verbose=0, warm_start=False, n_jobs=1)"
   ]
  },
  {
   "cell_type": "code",
   "execution_count": 375,
   "metadata": {},
   "outputs": [
    {
     "data": {
      "text/plain": [
       "LogisticRegression(C=1.0, class_weight='balanced', dual=False,\n",
       "          fit_intercept=True, intercept_scaling=1, max_iter=100,\n",
       "          multi_class='ovr', n_jobs=1, penalty='l2', random_state=None,\n",
       "          solver='liblinear', tol=0.0001, verbose=0, warm_start=False)"
      ]
     },
     "execution_count": 375,
     "metadata": {},
     "output_type": "execute_result"
    }
   ],
   "source": [
    "lr_model.fit(train_set,train_label)"
   ]
  },
  {
   "cell_type": "code",
   "execution_count": 376,
   "metadata": {},
   "outputs": [
    {
     "name": "stdout",
     "output_type": "stream",
     "text": [
      "AUC: 0.845218796778\n"
     ]
    }
   ],
   "source": [
    "lr_pred_ctr=[]\n",
    "for a, b in lr_model.predict_proba(validation_set):\n",
    "    lr_pred_ctr.append(b)\n",
    "auc=roc_auc_score(validation_label, lr_pred_ctr)\n",
    "print('AUC:',auc)"
   ]
  },
  {
   "cell_type": "markdown",
   "metadata": {},
   "source": [
    "# Evaluation"
   ]
  },
  {
   "cell_type": "code",
   "execution_count": 25,
   "metadata": {},
   "outputs": [],
   "source": [
    "def bid_linear(base_bid, p_ctr, avg_ctr):\n",
    "    return (base_bid*p_ctr/avg_ctr)"
   ]
  },
  {
   "cell_type": "code",
   "execution_count": 382,
   "metadata": {},
   "outputs": [],
   "source": [
    "def evaluate(bidprice):\n",
    "    budget=6250\n",
    "    impression=0\n",
    "    click=0\n",
    "    for row in range(0,validation.shape[0]):\n",
    "        if budget<validation.payprice[row]:\n",
    "            continue\n",
    "        if bidprice.iloc[row,0]>validation.payprice[row]:\n",
    "            budget=budget-validation.payprice[row]/1000\n",
    "            impression=impression+1\n",
    "            if validation.click[row]==1:\n",
    "                click=click+1\n",
    "    return click,(6250-budget),(click/impression),((6250-budget)/impression),((6250-budget)/click)"
   ]
  },
  {
   "cell_type": "code",
   "execution_count": 27,
   "metadata": {},
   "outputs": [],
   "source": [
    "def pred_ctr_calibration(pred_ctr):\n",
    "    return pred_ctr/(pred_ctr+(1-pred_ctr)/downsampling_rate)"
   ]
  },
  {
   "cell_type": "code",
   "execution_count": 28,
   "metadata": {},
   "outputs": [],
   "source": [
    "number_of_click=len(train[train.click==1])\n",
    "number_of_impression=len(train[train.bidprice>train.payprice])"
   ]
  },
  {
   "cell_type": "markdown",
   "metadata": {},
   "source": [
    "### Logistic Regression Evaluation"
   ]
  },
  {
   "cell_type": "code",
   "execution_count": 377,
   "metadata": {},
   "outputs": [],
   "source": [
    "avg_ctr=number_of_click/number_of_impression\n",
    "predCTR=pd.DataFrame(lr_pred_ctr)\n",
    "predCTR_calibrated=pred_ctr_calibration(predCTR)"
   ]
  },
  {
   "cell_type": "code",
   "execution_count": 383,
   "metadata": {},
   "outputs": [
    {
     "name": "stdout",
     "output_type": "stream",
     "text": [
      "basebid  3.0  click  155  cost  5331.392  CTR  0.0014015987268058017  CPM  0.0482094983181  CPC  34.3960774194\n",
      "basebid  3.1  click  156  cost  5504.535  CTR  0.0013776415835813382  CPM  0.0486107456044  CPC  35.2854807692\n",
      "basebid  3.2  click  158  cost  5678.198  CTR  0.0013635618306249084  CPM  0.0490036332882  CPC  35.9379620253\n",
      "basebid  3.3  click  158  cost  5849.315  CTR  0.0013339412052749777  CPM  0.0493838120325  CPC  37.0209810127\n",
      "basebid  3.4  click  160  cost  6014.338  CTR  0.0013233749369329132  CPM  0.0497451510715  CPC  37.5896125\n",
      "basebid  3.5  click  161  cost  6156.859  CTR  0.0013058854065278048  CPM  0.0499388342742  CPC  38.2413602485\n",
      "basebid  3.6  click  157  cost  6213.409  CTR  0.0012600927813538373  CPM  0.0498692473153  CPC  39.5758535032\n",
      "basebid  3.7  click  153  cost  6231.104  CTR  0.001225146737346156  CPM  0.04989553422  CPC  40.7261699347\n",
      "basebid  3.8  click  152  cost  6236.273  CTR  0.0012196883375326989  CPM  0.0500415095248  CPC  41.0281118421\n",
      "basebid  3.9  click  150  cost  6239.536  CTR  0.001208147748415313  CPM  0.0502552091304  CPC  41.5969066667\n"
     ]
    }
   ],
   "source": [
    "for counter in np.arange(3,4,0.1):\n",
    "    base_bid=counter\n",
    "    bidprice=bid_linear(base_bid, predCTR_calibrated, avg_ctr)\n",
    "    click,cost,CTR,CPM,CPC=evaluate(bidprice)\n",
    "    print('basebid ', base_bid, ' click ', click, ' cost ', cost, ' CTR ', CTR, ' CPM ', CPM, ' CPC ', CPC)"
   ]
  },
  {
   "cell_type": "code",
   "execution_count": null,
   "metadata": {},
   "outputs": [],
   "source": []
  }
 ],
 "metadata": {
  "kernelspec": {
   "display_name": "Python 3",
   "language": "python",
   "name": "python3"
  },
  "language_info": {
   "codemirror_mode": {
    "name": "ipython",
    "version": 3
   },
   "file_extension": ".py",
   "mimetype": "text/x-python",
   "name": "python",
   "nbconvert_exporter": "python",
   "pygments_lexer": "ipython3",
   "version": "3.6.3"
  }
 },
 "nbformat": 4,
 "nbformat_minor": 2
}
