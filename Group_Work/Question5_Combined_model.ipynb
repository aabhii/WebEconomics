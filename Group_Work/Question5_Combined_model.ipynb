{
 "cells": [
  {
   "cell_type": "code",
   "execution_count": 3,
   "metadata": {
    "collapsed": true
   },
   "outputs": [],
   "source": [
    "import math\n",
    "import numpy as np\n",
    "import pandas as pd\n",
    "import matplotlib.pyplot as plt\n",
    "import scipy.stats as stats\n",
    "import seaborn as sns\n",
    "import xgboost as xgb\n",
    "\n",
    "from xgboost.sklearn import XGBClassifier\n",
    "from sklearn.feature_extraction.text import CountVectorizer\n",
    "from sklearn.linear_model import LogisticRegression\n",
    "from sklearn.ensemble import RandomForestClassifier, ExtraTreesClassifier, BaggingClassifier\n",
    "from collections import Counter\n",
    "from sklearn.metrics import roc_auc_score, mean_squared_error\n",
    "from sklearn.model_selection import train_test_split\n",
    "from sklearn.metrics import confusion_matrix"
   ]
  },
  {
   "cell_type": "code",
   "execution_count": 4,
   "metadata": {
    "collapsed": true
   },
   "outputs": [],
   "source": [
    "train = pd.read_csv(\"/Users/dingding/Desktop/we_data/train.csv\")\n",
    "validation = pd.read_csv(\"/Users/dingding/Desktop/we_data/validation.csv\")\n",
    "test=pd.read_csv('/Users/dingding/Desktop/we_data/test.csv')"
   ]
  },
  {
   "cell_type": "code",
   "execution_count": 5,
   "metadata": {
    "scrolled": true
   },
   "outputs": [
    {
     "data": {
      "text/plain": [
       "5F1RQS9rg5scFsf                                 192662\n",
       "31xSTvprdN1RFt                                  138086\n",
       "ersbQv1RdoTy1m58uG                               80892\n",
       "trqRTuMvjTN7X9KbuKz                              75043\n",
       "DFpETuxoGQdcFNKbuKz                              71060\n",
       "3FKElpuEMusyJqKbuKz                              63618\n",
       "3FF-e59aG5syJqKbuKz                              44466\n",
       "5F97t5E0BTK7XhNrUMpENpn                          28219\n",
       "DD1SqS9rg5scFsf                                  28137\n",
       "DDTSQuf0MTTNaqKIvMpENpn                          26922\n",
       "31drTvprdN1RFt                                   26237\n",
       "dd4270481b753dde29898e27c7c03920                 25227\n",
       "trqRTummPvas1m58uG                               20594\n",
       "3SCYZrn0Qo18XMB4JKTI                             20536\n",
       "trqRTuN-XIuc1mKYUV                               18947\n",
       "trqRTvFoMNmIFY5SaMpENpn                          18188\n",
       "trqRTvFRLpscFU                                   17954\n",
       "tK1jlK9rg5scFsf                                  17881\n",
       "20fc675468712705dbf5d3eda94126da                 17286\n",
       "3043163ba84753b4b51dd3290caeae67                 17144\n",
       "trqRTJkrBoq7JsNr5SqfNX                           15935\n",
       "DFpETuFygZl7gspy                                 15764\n",
       "trqRTvpogNlyDok4JKTI                             15176\n",
       "7ed515fe566938ee6cfbb6ebb7ea4995                 14418\n",
       "13625cb070ffb306b425cd803c4b7ab4                 14108\n",
       "trqRTuNoGTlyDok4JKTI                             14050\n",
       "trqRTJn7O95I1mKYUV                               13745\n",
       "eA1XTupSMZq81YT9UDaWvpdh                         11353\n",
       "trqRTJkrXTq8wTK4wJB                              11146\n",
       "51F-l19YBqq4gsz4JKTI                             10953\n",
       "                                                 ...  \n",
       "5KF-B5a0jqN8jOMr5SKYoDj6Xxd8SdC                      1\n",
       "trqRTuFJM9FIDQCs5SqfNX                               1\n",
       "5DpmZD2RdN17                                         1\n",
       "trqRTuNEjqq71mKYUV                                   1\n",
       "l12-txp0BNc7gspy                                     1\n",
       "b7b92aeff9ea972c59ffbd4a386d3aec                     1\n",
       "bf82e8976cc0c436477fa39fe622834b                     1\n",
       "6OnEexFJdN1RFt                                       1\n",
       "e7c3e08df43d0f50b73c925aec12aada                     1\n",
       "c988a7ed5275b989cd30116e1f6cb707                     1\n",
       "711b6ba14aaedd845f1b2ffe201b1ae1                     1\n",
       "9829aa2c9cef4e04052d583f336af28a                     1\n",
       "6gKuG5SoQqf7gspy                                     1\n",
       "e03574985721c6155dce420162e6fbb9                     1\n",
       "trqRTvdEB9ly3ok4JKTI                                 1\n",
       "DFKbtpu0Gxs_FgE4uF1svx5iM9FnSU                       1\n",
       "7542d1a78f2eed4f720c31263110a335                     1\n",
       "HhLSCDC7OuffDMd-5SqfNX                               1\n",
       "trqRTvNyBQTYgMKEtgkhqxMzmw                           1\n",
       "9b57b7901861f1a7852d846c9775a965                     1\n",
       "d2d191efa985305c55ca307094118e32                     1\n",
       "9ce55d3942c1a3862cf798c75932ad46                     1\n",
       "9b4983a98eb9ff35d212f0cac5f9d628                     1\n",
       "3efdcd760dcac155815eeb8ee36788ca                     1\n",
       "kK5FGK89Pva91m54                                     1\n",
       "trqRTv1NGqxRgsdx5rqr                                 1\n",
       "e397bd54750818ef3658b3d37fac8fc1                     1\n",
       "469621a38ef7119b914ceedf3749f2f2                     1\n",
       "lApEeyFRQqdYjhdscSpWc1Tnbq1pFhuKrS5n8ppAmTS3         1\n",
       "b75adec4caa636713aace5384a61489d                     1\n",
       "Name: domain, Length: 23012, dtype: int64"
      ]
     },
     "execution_count": 5,
     "metadata": {},
     "output_type": "execute_result"
    }
   ],
   "source": [
    "train['domain'].value_counts()"
   ]
  },
  {
   "cell_type": "code",
   "execution_count": 6,
   "metadata": {},
   "outputs": [
    {
     "data": {
      "text/plain": [
       "float"
      ]
     },
     "execution_count": 6,
     "metadata": {},
     "output_type": "execute_result"
    }
   ],
   "source": [
    "type(train.usertag[0])"
   ]
  },
  {
   "cell_type": "code",
   "execution_count": 7,
   "metadata": {},
   "outputs": [
    {
     "data": {
      "text/plain": [
       "Index(['click', 'weekday', 'hour', 'bidid', 'userid', 'useragent', 'IP',\n",
       "       'region', 'city', 'adexchange', 'domain', 'url', 'urlid', 'slotid',\n",
       "       'slotwidth', 'slotheight', 'slotvisibility', 'slotformat', 'slotprice',\n",
       "       'creative', 'bidprice', 'payprice', 'keypage', 'advertiser', 'usertag'],\n",
       "      dtype='object')"
      ]
     },
     "execution_count": 7,
     "metadata": {},
     "output_type": "execute_result"
    }
   ],
   "source": [
    "train.columns"
   ]
  },
  {
   "cell_type": "code",
   "execution_count": 8,
   "metadata": {
    "scrolled": true
   },
   "outputs": [
    {
     "data": {
      "text/plain": [
       "44966cc8da1ed40c95d59e863c8c75f0    147811\n",
       "832b91d59d0cb5731431653204a76c0e    133077\n",
       "86c2543527c86a893d4d4f68810a0416    126157\n",
       "48f2e9ba15708c0146bda5e1dd653caa    107449\n",
       "77819d3e0b3467fe5c7b16d68ad923a1    106436\n",
       "e1af08818a6cd6bbba118bb54a651961     97033\n",
       "c46090c887c257b61ab1fa11baee91d8     85682\n",
       "10722                                78307\n",
       "0cd33fcb336655841d3e1441b915748d     75359\n",
       "b90c12ed2bd7950c6027bf9c6937c48a     74424\n",
       "00fccc64a1ee2809348509b7ac2a97a5     57629\n",
       "cb7c76e7784031272e37af8e7e9b062c     53706\n",
       "10717                                50878\n",
       "911b2d84826786018761e8c0b0a3a60c     50726\n",
       "449a22cd91d9042eda3d3a1b89a22ea8     50549\n",
       "7323                                 47191\n",
       "59f065a795a663140e36eec106464524     41741\n",
       "a10c31a8ff5f42930b4c34035e523886     40054\n",
       "d01411218cc79bc49d2a4078c4093b76     37611\n",
       "d881a6c788e76c2c27ed1ef04f119544     37118\n",
       "a499988a822facd86dd0e8e4ffef8532     33868\n",
       "f65c8bdb41e9015970bac52baa813239     31811\n",
       "7184c9560e68e977187e67e45a4f3198     30125\n",
       "cc9b344e950b4f8c2b96537174a343b7     29811\n",
       "10719                                29306\n",
       "2abc9eaf57d17a96195af3f63c45dc72     25201\n",
       "4ad7e35171a3d8de73bb862791575f2e     24390\n",
       "ff5123fb9333ca095034c62fdaaf51aa     24084\n",
       "11908                                23442\n",
       "10734                                22337\n",
       "                                     ...  \n",
       "12630                                 1435\n",
       "6cdf8fdd3e01122b09b5b411510a2385      1354\n",
       "7322                                  1148\n",
       "6455a6f45433aef94075f34dafd8d3bf       798\n",
       "0055e8503dc053435b3599fe44af118b       766\n",
       "87945ed58e806dbdc291b3662f581354       707\n",
       "3b805a00d99d5ee2493c8fb0063e30e9       609\n",
       "e1096a0a4f557814cb226fa5ba2339b2       490\n",
       "16ff51916f0c796ec72eefc633c4a8ed       459\n",
       "7315                                   444\n",
       "7331                                   434\n",
       "12631                                  372\n",
       "7334                                   355\n",
       "12629                                  307\n",
       "12619                                  287\n",
       "e1b0b6fb39abeb138c0b1e37c5f6d777       235\n",
       "12618                                  206\n",
       "cd6f20e0b2a699c352f2e55a7a2091fd       183\n",
       "bac72fe483c04a0ea2490539b4d06e6a       144\n",
       "12624                                  125\n",
       "7320                                   107\n",
       "12614                                   84\n",
       "10721                                   71\n",
       "7318                                    61\n",
       "7325                                    57\n",
       "12612                                   38\n",
       "7316                                    34\n",
       "7332                                     6\n",
       "7324                                     2\n",
       "7327                                     1\n",
       "Name: creative, Length: 131, dtype: int64"
      ]
     },
     "execution_count": 8,
     "metadata": {},
     "output_type": "execute_result"
    }
   ],
   "source": [
    "train.creative.value_counts()"
   ]
  },
  {
   "cell_type": "markdown",
   "metadata": {},
   "source": [
    "# Preprocess Data"
   ]
  },
  {
   "cell_type": "code",
   "execution_count": 9,
   "metadata": {
    "collapsed": true
   },
   "outputs": [],
   "source": [
    "def preprocessData(data):\n",
    "    click=data['click']\n",
    "    weekday=pd.get_dummies(data['weekday'],prefix='weekday_')\n",
    "    hour=pd.get_dummies(data['hour'],prefix='hour_')\n",
    "    useragent=pd.get_dummies(data['useragent'],prefix='useragent_')\n",
    "    region=pd.get_dummies(data['region'],prefix='region_')\n",
    "    city=pd.get_dummies(data['city'],prefix='city_')\n",
    "    adexchange=pd.get_dummies(data['adexchange'],prefix='adexchange_')\n",
    "    slotwidth=pd.get_dummies(data['slotwidth'],prefix='slotwidth_')\n",
    "    slotheight=pd.get_dummies(data['slotheight'],prefix='slotheight_')\n",
    "    slotvisibility=pd.get_dummies(data['slotvisibility'],prefix='slotvisibility_')\n",
    "    slotformat=pd.get_dummies(data['slotformat'],prefix='slotformat_')\n",
    "    slotprice=data['slotprice']\n",
    "    creative=pd.get_dummies(data['creative'],prefix='creative_')\n",
    "    keypage=pd.get_dummies(data['keypage'],prefix='keypage_')\n",
    "    advertiser=pd.get_dummies(data['advertiser'],prefix='advertiser_')\n",
    "    \n",
    "    data_usertag=data.usertag.fillna('0')\n",
    "    data_usertag=data_usertag.str.replace(',',' ')\n",
    "    vect=CountVectorizer()\n",
    "    data_usertag_vect=vect.fit_transform(data_usertag)\n",
    "    usertag=pd.DataFrame(data_usertag_vect.toarray(),columns=vect.get_feature_names())\n",
    "    \n",
    "    newdata=pd.concat([click,weekday,hour,useragent,region,city,adexchange,\\\n",
    "                       slotwidth,slotheight,slotvisibility,slotformat,\\\n",
    "                       slotprice,creative,keypage,advertiser,usertag],axis=1)\n",
    "    \n",
    "    return newdata"
   ]
  },
  {
   "cell_type": "code",
   "execution_count": 10,
   "metadata": {
    "collapsed": true
   },
   "outputs": [],
   "source": [
    "def preprocessTestData(data):\n",
    "    weekday=pd.get_dummies(data['weekday'],prefix='weekday_')\n",
    "    hour=pd.get_dummies(data['hour'],prefix='hour_')\n",
    "    useragent=pd.get_dummies(data['useragent'],prefix='useragent_')\n",
    "    region=pd.get_dummies(data['region'],prefix='region_')\n",
    "    city=pd.get_dummies(data['city'],prefix='city_')\n",
    "    adexchange=pd.get_dummies(data['adexchange'],prefix='adexchange_')\n",
    "    slotwidth=pd.get_dummies(data['slotwidth'],prefix='slotwidth_')\n",
    "    slotheight=pd.get_dummies(data['slotheight'],prefix='slotheight_')\n",
    "    slotvisibility=pd.get_dummies(data['slotvisibility'],prefix='slotvisibility_')\n",
    "    slotformat=pd.get_dummies(data['slotformat'],prefix='slotformat_')\n",
    "    slotprice=data['slotprice']\n",
    "    creative=pd.get_dummies(data['creative'],prefix='creative_')\n",
    "    keypage=pd.get_dummies(data['keypage'],prefix='keypage_')\n",
    "    advertiser=pd.get_dummies(data['advertiser'],prefix='advertiser_')\n",
    "    \n",
    "    data_usertag=data.usertag.fillna('0')\n",
    "    data_usertag=data_usertag.str.replace(',',' ')\n",
    "    vect=CountVectorizer()\n",
    "    data_usertag_vect=vect.fit_transform(data_usertag)\n",
    "    usertag=pd.DataFrame(data_usertag_vect.toarray(),columns=vect.get_feature_names())\n",
    "    \n",
    "    newdata=pd.concat([weekday,hour,useragent,region,city,adexchange,\\\n",
    "                       slotwidth,slotheight,slotvisibility,slotformat,\\\n",
    "                       slotprice,creative,keypage,advertiser,usertag],axis=1)\n",
    "    \n",
    "    return newdata"
   ]
  },
  {
   "cell_type": "code",
   "execution_count": 11,
   "metadata": {
    "collapsed": true,
    "scrolled": false
   },
   "outputs": [],
   "source": [
    "train_processed=preprocessData(train)"
   ]
  },
  {
   "cell_type": "code",
   "execution_count": 12,
   "metadata": {
    "collapsed": true
   },
   "outputs": [],
   "source": [
    "validation_processed=preprocessData(validation)"
   ]
  },
  {
   "cell_type": "code",
   "execution_count": 13,
   "metadata": {
    "collapsed": true
   },
   "outputs": [],
   "source": [
    "test_processed=preprocessTestData(test)"
   ]
  },
  {
   "cell_type": "code",
   "execution_count": 14,
   "metadata": {},
   "outputs": [
    {
     "name": "stdout",
     "output_type": "stream",
     "text": [
      "Number of features in processed training set 756\n",
      "Number of features in processed validation set 751\n",
      "Number of features in processed test set 748\n"
     ]
    }
   ],
   "source": [
    "print('Number of features in processed training set',len(train_processed.columns))\n",
    "print('Number of features in processed validation set',len(validation_processed.columns))\n",
    "print('Number of features in processed test set',len(test_processed.columns))"
   ]
  },
  {
   "cell_type": "code",
   "execution_count": 15,
   "metadata": {
    "collapsed": true
   },
   "outputs": [],
   "source": [
    "train_features=list(train_processed)\n",
    "validation_features=list(validation_processed)\n",
    "test_features=list(test_processed)"
   ]
  },
  {
   "cell_type": "code",
   "execution_count": 16,
   "metadata": {},
   "outputs": [
    {
     "name": "stdout",
     "output_type": "stream",
     "text": [
      "['useragent__android_maxthon', 'useragent__android_ie', 'useragent__other_firefox', 'creative__7332', 'creative__7324']\n",
      "[]\n",
      "['click', 'useragent__other_firefox', 'creative__7327', 'useragent__mac_sogou', 'useragent__linux_ie', 'useragent__android_ie', 'creative__7324', 'useragent__mac_maxthon']\n",
      "[]\n"
     ]
    }
   ],
   "source": [
    "print(list(set(train_features)-set(validation_features)))\n",
    "print(list(set(validation_features)-set(train_features)))\n",
    "print(list(set(train_features)-set(test_features)))\n",
    "print(list(set(test_features)-set(train_features)))"
   ]
  },
  {
   "cell_type": "code",
   "execution_count": 17,
   "metadata": {
    "collapsed": true
   },
   "outputs": [],
   "source": [
    "remove_features=['click', 'useragent__android_maxthon', 'useragent__linux_ie', 'creative__7324', 'useragent__other_firefox',\\\n",
    "                 'creative__7332', 'creative__7327', 'useragent__android_ie', 'useragent__mac_sogou', 'useragent__mac_maxthon']\n",
    "feature=[]\n",
    "for i in train_features:\n",
    "    if(i not in remove_features):\n",
    "        feature.append(i)"
   ]
  },
  {
   "cell_type": "code",
   "execution_count": 18,
   "metadata": {},
   "outputs": [
    {
     "data": {
      "text/plain": [
       "746"
      ]
     },
     "execution_count": 18,
     "metadata": {},
     "output_type": "execute_result"
    }
   ],
   "source": [
    "len(feature)"
   ]
  },
  {
   "cell_type": "code",
   "execution_count": 19,
   "metadata": {},
   "outputs": [
    {
     "name": "stdout",
     "output_type": "stream",
     "text": [
      "[]\n",
      "['click', 'useragent__mac_sogou', 'useragent__linux_ie', 'useragent__mac_maxthon', 'creative__7327']\n",
      "[]\n",
      "['useragent__android_maxthon', 'creative__7332']\n"
     ]
    }
   ],
   "source": [
    "print(list(set(feature)-set(validation_features)))\n",
    "print(list(set(validation_features)-set(feature)))\n",
    "print(list(set(feature)-set(test_features)))\n",
    "print(list(set(test_features)-set(feature)))"
   ]
  },
  {
   "cell_type": "code",
   "execution_count": 20,
   "metadata": {
    "scrolled": false
   },
   "outputs": [
    {
     "data": {
      "text/plain": [
       "0    2429188\n",
       "1       1793\n",
       "Name: click, dtype: int64"
      ]
     },
     "execution_count": 20,
     "metadata": {},
     "output_type": "execute_result"
    }
   ],
   "source": [
    "train_processed.click.value_counts()"
   ]
  },
  {
   "cell_type": "code",
   "execution_count": 21,
   "metadata": {},
   "outputs": [
    {
     "data": {
      "text/plain": [
       "0    303723\n",
       "1       202\n",
       "Name: click, dtype: int64"
      ]
     },
     "execution_count": 21,
     "metadata": {},
     "output_type": "execute_result"
    }
   ],
   "source": [
    "validation.click.value_counts()"
   ]
  },
  {
   "cell_type": "markdown",
   "metadata": {},
   "source": [
    "# Train Model for downsampling"
   ]
  },
  {
   "cell_type": "code",
   "execution_count": 22,
   "metadata": {
    "collapsed": true
   },
   "outputs": [],
   "source": [
    "downsampling_rate=0.025"
   ]
  },
  {
   "cell_type": "code",
   "execution_count": 23,
   "metadata": {
    "collapsed": true
   },
   "outputs": [],
   "source": [
    "train_not_clicked = train_processed[train_processed.click == 0].sample(n= round(downsampling_rate*2429188), random_state = 2)\n",
    "train_clicked = train_processed[train_processed.click == 1]\n",
    "train_sample = pd.concat([train_clicked,train_not_clicked],0)"
   ]
  },
  {
   "cell_type": "code",
   "execution_count": 24,
   "metadata": {
    "collapsed": true
   },
   "outputs": [],
   "source": [
    "train_set=train_sample[feature]\n",
    "train_label=train_sample['click']\n",
    "validation_set=validation_processed[feature]\n",
    "validation_label=validation_processed['click']\n",
    "test_set=test_processed[feature]"
   ]
  },
  {
   "cell_type": "markdown",
   "metadata": {},
   "source": [
    "# Evaluation"
   ]
  },
  {
   "cell_type": "code",
   "execution_count": 25,
   "metadata": {
    "collapsed": true
   },
   "outputs": [],
   "source": [
    "def bid_linear(base_bid, p_ctr, avg_ctr):\n",
    "    return (base_bid*p_ctr/avg_ctr)"
   ]
  },
  {
   "cell_type": "code",
   "execution_count": 26,
   "metadata": {
    "collapsed": true
   },
   "outputs": [],
   "source": [
    "def ortb(c,p_ctr,lamada):\n",
    "    return(np.sqrt((c*p_ctr/lamada)+np.square(c))-c)"
   ]
  },
  {
   "cell_type": "code",
   "execution_count": 27,
   "metadata": {
    "collapsed": true
   },
   "outputs": [],
   "source": [
    "def evaluate(bidprice):\n",
    "    budget=6250\n",
    "    impression=0\n",
    "    click=0\n",
    "    for row in range(0,validation.shape[0]):\n",
    "        if budget<validation.payprice[row]:\n",
    "            continue\n",
    "        if bidprice.iloc[row,0]>validation.payprice[row]:\n",
    "            budget=budget-validation.payprice[row]/1000\n",
    "            impression=impression+1\n",
    "            if validation.click[row]==1:\n",
    "                click=click+1\n",
    "                cost=6250-budget\n",
    "    return click,(click/impression),budget,(cost/impression),(cost/click)"
   ]
  },
  {
   "cell_type": "code",
   "execution_count": 28,
   "metadata": {
    "collapsed": true
   },
   "outputs": [],
   "source": [
    "def pred_ctr_calibration(pred_ctr):\n",
    "    return pred_ctr/(pred_ctr+(1-pred_ctr)/downsampling_rate)"
   ]
  },
  {
   "cell_type": "code",
   "execution_count": 29,
   "metadata": {
    "collapsed": true
   },
   "outputs": [],
   "source": [
    "number_of_click=len(train[train.click==1])\n",
    "number_of_impression=len(train[train.bidprice>train.payprice])"
   ]
  },
  {
   "cell_type": "markdown",
   "metadata": {},
   "source": [
    "## GB+linear on testset 179 clicks"
   ]
  },
  {
   "cell_type": "code",
   "execution_count": 30,
   "metadata": {
    "collapsed": true
   },
   "outputs": [],
   "source": [
    "import numpy as np  \n",
    "import pandas as pd  \n",
    "from sklearn import linear_model  \n",
    "from sklearn.preprocessing import OneHotEncoder  \n",
    "from sklearn.ensemble import GradientBoostingRegressor \n",
    "from sklearn.ensemble import GradientBoostingClassifier"
   ]
  },
  {
   "cell_type": "code",
   "execution_count": 31,
   "metadata": {},
   "outputs": [
    {
     "data": {
      "text/plain": [
       "LogisticRegression(C=1.0, class_weight=None, dual=False, fit_intercept=True,\n",
       "          intercept_scaling=1, max_iter=100, multi_class='ovr', n_jobs=1,\n",
       "          penalty='l2', random_state=None, solver='liblinear', tol=0.0001,\n",
       "          verbose=0, warm_start=False)"
      ]
     },
     "execution_count": 31,
     "metadata": {},
     "output_type": "execute_result"
    }
   ],
   "source": [
    "\n",
    "\n",
    "gbr=GradientBoostingRegressor()\n",
    "gbr.fit(train_set,train_label)  \n",
    "enc = OneHotEncoder()  \n",
    "enc.fit(gbr.apply(train_set))\n",
    "new_feature_train=enc.transform(gbr.apply(train_set))  \n",
    "new_feature_train=new_feature_train.toarray()\n",
    "new_train=np.concatenate([train_set,new_feature_train],axis=1) \n",
    "\n",
    "new_feature_test=enc.transform(gbr.apply(validation_set))  \n",
    "new_feature_test=new_feature_test.toarray()  \n",
    "new_test=np.concatenate([validation_set,new_feature_test],axis=1)  \n",
    "   \n",
    "lr = LogisticRegression(penalty='l2', dual=False, tol=0.0001, C=1.0, fit_intercept=True, \\\n",
    "                              intercept_scaling=1, class_weight=None, random_state=None, solver='liblinear', \\\n",
    "                              max_iter=100, multi_class='ovr', verbose=0, warm_start=False, n_jobs=1) \n",
    "lr.fit(new_train, train_label)  "
   ]
  },
  {
   "cell_type": "code",
   "execution_count": 32,
   "metadata": {},
   "outputs": [
    {
     "name": "stdout",
     "output_type": "stream",
     "text": [
      "AUC: 0.8624586293340568\n"
     ]
    }
   ],
   "source": [
    "pred_ctr = []\n",
    "for a, b in lr.predict_proba(new_test):\n",
    "    pred_ctr.append(b)\n",
    "\n",
    "auc_etcf = roc_auc_score(validation_label, pred_ctr)\n",
    "print('AUC:', auc_etcf)"
   ]
  },
  {
   "cell_type": "code",
   "execution_count": 33,
   "metadata": {
    "scrolled": false
   },
   "outputs": [
    {
     "name": "stdout",
     "output_type": "stream",
     "text": [
      "basebid  152  click  (163, 0.0013737768750368728, 78.4699999980113, 0.05195088958375394, 37.81610429449073)\n",
      "basebid  153  click  (162, 0.0013622030691612362, 66.43899999800907, 0.051791254992659165, 38.02021604939501)\n"
     ]
    }
   ],
   "source": [
    "avg_ctr=number_of_click/number_of_impression\n",
    "predCTR=pd.DataFrame(pred_ctr)\n",
    "predCTR_calibrated=pred_ctr_calibration(predCTR)\n",
    "for counter in range(152,154,1):\n",
    "    base_bid=counter\n",
    "    bidprice=bid_linear(base_bid, predCTR_calibrated, avg_ctr)\n",
    "    print('basebid ', base_bid, ' click ', evaluate(bidprice))"
   ]
  },
  {
   "cell_type": "code",
   "execution_count": 158,
   "metadata": {
    "collapsed": true
   },
   "outputs": [],
   "source": [
    "new_feature_test=enc.transform(gbr.apply(test_set))\n",
    "new_feature_test=new_feature_test.toarray()  \n",
    "new_test=np.concatenate([test_set,new_feature_test],axis=1)\n",
    "pred_ctr_test=[]\n",
    "for a, b in lr.predict_proba(new_test):\n",
    "    pred_ctr_test.append(b)\n",
    "predCTR_test=pd.DataFrame(pred_ctr_test)\n",
    "predCTR_calibrated_test=pred_ctr_calibration(predCTR_test)\n",
    "bidprice=bid_linear(152, predCTR_calibrated_test, avg_ctr)"
   ]
  },
  {
   "cell_type": "code",
   "execution_count": 159,
   "metadata": {
    "collapsed": true
   },
   "outputs": [],
   "source": [
    "group8=pd.read_csv(\"/Users/dingding/Desktop/we_data/Group_8.csv\")\n",
    "group8['bidprice']=bidprice\n",
    "group8.to_csv(\"/Users/dingding/Desktop/Group_8.csv\")"
   ]
  },
  {
   "cell_type": "markdown",
   "metadata": {},
   "source": [
    "## xgboost +linear "
   ]
  },
  {
   "cell_type": "code",
   "execution_count": 42,
   "metadata": {
    "collapsed": true
   },
   "outputs": [],
   "source": [
    "xgboost=xgb.XGBClassifier(booster='gbtree',learning_rate = 0.1,\n",
    " n_estimators=50,\n",
    " max_depth=9,\n",
    " min_child_weight=9,\n",
    " gamma=0,\n",
    " subsample=0.8,\n",
    " colsample_bytree=0.85,\n",
    " objective= 'binary:logistic',\n",
    " nthread=4,\n",
    " scale_pos_weight=1, seed=27,n_jobs=4)"
   ]
  },
  {
   "cell_type": "code",
   "execution_count": 43,
   "metadata": {},
   "outputs": [
    {
     "data": {
      "text/plain": [
       "LogisticRegression(C=1.0, class_weight=None, dual=False, fit_intercept=True,\n",
       "          intercept_scaling=1, max_iter=100, multi_class='ovr', n_jobs=1,\n",
       "          penalty='l2', random_state=None, solver='liblinear', tol=0.0001,\n",
       "          verbose=0, warm_start=False)"
      ]
     },
     "execution_count": 43,
     "metadata": {},
     "output_type": "execute_result"
    }
   ],
   "source": [
    "#gbr=GradientBoostingRegressor()  \n",
    "#gbr=GradientBoostingRegressor()\n",
    "xgboost.fit(train_set,train_label)\n",
    "enc = OneHotEncoder()  \n",
    "enc.fit(xgboost.apply(train_set))\n",
    "new_feature_train=enc.transform(xgboost.apply(train_set))  \n",
    "new_feature_train=new_feature_train.toarray()\n",
    "new_train=np.concatenate([train_set,new_feature_train],axis=1)\n",
    "\n",
    "new_feature_test=enc.transform(xgboost.apply(validation_set)) \n",
    "new_feature_test=new_feature_test.toarray()  \n",
    "new_test=np.concatenate([validation_set,new_feature_test],axis=1)  \n",
    "   \n",
    "lr = LogisticRegression(penalty='l2', dual=False, tol=0.0001, C=1.0, fit_intercept=True, \\\n",
    "                              intercept_scaling=1, class_weight=None, random_state=None, solver='liblinear', \\\n",
    "                              max_iter=100, multi_class='ovr', verbose=0, warm_start=False, n_jobs=1) \n",
    "lr.fit(new_train, train_label)"
   ]
  },
  {
   "cell_type": "code",
   "execution_count": 44,
   "metadata": {},
   "outputs": [
    {
     "name": "stdout",
     "output_type": "stream",
     "text": [
      "AUC: 0.8598725868082704\n"
     ]
    }
   ],
   "source": [
    "ctr = []\n",
    "for a, b in lr.predict_proba(new_test):\n",
    "    ctr.append(b)\n",
    "\n",
    "auc_etcf = roc_auc_score(validation_label, ctr)\n",
    "print('AUC:', auc_etcf)"
   ]
  },
  {
   "cell_type": "code",
   "execution_count": 46,
   "metadata": {},
   "outputs": [
    {
     "name": "stdout",
     "output_type": "stream",
     "text": [
      "basebid  221  click  (158, 0.0015914745313711863, 117.05299999870564, 0.061690629438262826, 38.763189873425915)\n",
      "basebid  226  click  (159, 0.0015890942162967109, 76.94799999871158, 0.061635557732105585, 38.78659748428483)\n"
     ]
    }
   ],
   "source": [
    "avg_ctr=number_of_click/number_of_impression\n",
    "CTR=pd.DataFrame(ctr)\n",
    "predCTR=pred_ctr_calibration(CTR)\n",
    "for counter in range(221,227,5):\n",
    "    base_bid=counter\n",
    "    bidprice1=bid_linear(base_bid, predCTR, avg_ctr)\n",
    "    print('basebid ', base_bid, ' click ', evaluate(bidprice1))"
   ]
  },
  {
   "cell_type": "code",
   "execution_count": null,
   "metadata": {},
   "outputs": [],
   "source": [
    "new_feature_test_xg=enc.transform(xgboost.apply(test_set))\n",
    "new_feature_test_xg=new_feature_test_xg.toarray()  \n",
    "new_test_xg=np.concatenate([test_set,new_feature_test_xg],axis=1)\n",
    "ctr_test=[]\n",
    "for a, b in lr.predict_proba(new_test_xg):\n",
    "    ctr_test.append(b)\n",
    "CTR_test=pd.DataFrame(ctr_test)\n",
    "CTR_calibrated_test=pred_ctr_calibration(dCTR_test)\n",
    "bidprice_xg=bid_linear(226, CTR_calibrated_test, avg_ctr)"
   ]
  },
  {
   "cell_type": "code",
   "execution_count": 79,
   "metadata": {
    "collapsed": true
   },
   "outputs": [],
   "source": [
    "group=pd.read_csv(\"/Users/dingding/Desktop/we_data/Group_8.csv\")\n",
    "group['bidprice']=bidprice\n",
    "group.to_csv(\"/Users/dingding/Desktop/Group_8_new.csv\")"
   ]
  },
  {
   "cell_type": "markdown",
   "metadata": {},
   "source": [
    "## ORTB Evaluation "
   ]
  },
  {
   "cell_type": "code",
   "execution_count": 34,
   "metadata": {
    "collapsed": true
   },
   "outputs": [],
   "source": [
    "def ortb(c,p_ctr,lamada):\n",
    "    return(np.sqrt((c*p_ctr/lamada)+np.square(c))-c)"
   ]
  },
  {
   "cell_type": "code",
   "execution_count": 35,
   "metadata": {
    "collapsed": true
   },
   "outputs": [],
   "source": [
    "def ortb1(c,p_ctr,lamada):\n",
    "    a=np.sqrt(np.square(c)*np.square(lamada)+np.square(p_ctr))\n",
    "    b=np.cbrt((p_ctr+a)/(c*lamada))\n",
    "    d=np.cbrt((c*lamada)/(p_ctr+a))\n",
    "    return(c*(b-d))"
   ]
  },
  {
   "cell_type": "code",
   "execution_count": 39,
   "metadata": {},
   "outputs": [
    {
     "name": "stdout",
     "output_type": "stream",
     "text": [
      "c  10 lamada 5.7e-07  click  (155, 0.0012357293194719052, 996.2949999972076, 0.041796024937837184, 33.8229612903406)\n",
      "c  11 lamada 5.7e-07  click  (156, 0.0012042705285666864, 707.9719999973206, 0.04269012420971815, 35.44894871796589)\n",
      "c  12 lamada 5.7e-07  click  (157, 0.0011784751882182507, 443.2949999974181, 0.043489044684495784, 36.902808917213896)\n",
      "c  13 lamada 5.7e-07  click  (157, 0.0011487608748143325, 189.62799999746554, 0.04424597384924551, 38.51626114651296)\n",
      "c  14 lamada 5.7e-07  click  (152, 0.0010946355655737114, 37.07399999751532, 0.04432203890278977, 40.49022368422687)\n",
      "c  15 lamada 5.7e-07  click  (147, 0.0010622231535743448, 16.10699999757576, 0.04479969506248635, 42.175408163281794)\n",
      "c  16 lamada 5.7e-07  click  (145, 0.0010567434809859051, 11.159999997637104, 0.0454062121941082, 42.96805517243009)\n",
      "c  17 lamada 5.7e-07  click  (143, 0.0010518495634456533, 8.888999997705204, 0.04587348382874929, 43.61220979022584)\n",
      "c  18 lamada 5.7e-07  click  (140, 0.0010386296024274258, 7.493999997756574, 0.0462886129101826, 44.567007142873166)\n",
      "c  19 lamada 5.7e-07  click  (142, 0.001062715162400838, 6.523999997825807, 0.04670723694059403, 43.95085211269137)\n",
      "c  10 lamada 5.800000000000001e-07  click  (155, 0.0012458405002652435, 1063.4899999971951, 0.041598967961827514, 33.39028387098586)\n",
      "c  11 lamada 5.800000000000001e-07  click  (156, 0.0012142629190569224, 778.3619999972843, 0.042498883033810345, 34.99973717950459)\n",
      "c  12 lamada 5.800000000000001e-07  click  (157, 0.0011880169197823734, 512.665999997398, 0.04331812368998512, 36.462547770717215)\n",
      "c  13 lamada 5.800000000000001e-07  click  (157, 0.0011577829562549778, 259.78099999745183, 0.04407339016550064, 38.067057324857)\n",
      "c  14 lamada 5.800000000000001e-07  click  (155, 0.001119626694789763, 60.58799999749523, 0.04449449938241756, 39.740477419371004)\n",
      "c  15 lamada 5.800000000000001e-07  click  (149, 0.001074586392418757, 19.182999997557744, 0.044508841898790126, 41.41951006713048)\n",
      "c  16 lamada 5.800000000000001e-07  click  (146, 0.0010614322064703744, 12.750999997627448, 0.045237593602343674, 42.61939041097516)\n",
      "c  17 lamada 5.800000000000001e-07  click  (144, 0.0010560049280229974, 9.655999997692291, 0.045720679363187286, 43.29589583334936)\n",
      "c  18 lamada 5.800000000000001e-07  click  (140, 0.0010355259362263955, 8.009999997737124, 0.04614265849095958, 44.559635714301876)\n",
      "c  19 lamada 5.800000000000001e-07  click  (141, 0.001051320861635736, 7.000999997786155, 0.04652840430372148, 44.25709219859726)\n"
     ]
    }
   ],
   "source": [
    "for lamda in np.arange(0.00000057,0.00000059,0.00000001):\n",
    "    for c in range(10,20,1):\n",
    "        bidprice=ortb(c, predCTR_calibrated, lamda)\n",
    "        print('c ', c,'lamada',lamda, ' click ', evaluate(bidprice))"
   ]
  },
  {
   "cell_type": "code",
   "execution_count": 41,
   "metadata": {},
   "outputs": [
    {
     "name": "stdout",
     "output_type": "stream",
     "text": [
      "c  1 lamada 5.2e-07  click  (52, 0.0036376355369010143, 6134.467999998998, 0.00789548793291179, 2.170500000018732)\n",
      "c  2 lamada 5.2e-07  click  (72, 0.0027705094659073418, 5937.721999998114, 0.011697899030392105, 4.222291666692083)\n",
      "c  3 lamada 5.2e-07  click  (80, 0.0021108736378268557, 5678.591999996936, 0.014656956648011026, 6.943550000037123)\n",
      "c  4 lamada 5.2e-07  click  (92, 0.001896398903386721, 5400.209999996033, 0.017047224455379956, 8.98926086960704)\n",
      "c  5 lamada 5.2e-07  click  (99, 0.0017105831533477322, 5115.748999995519, 0.019083732181500626, 11.156272727316654)\n",
      "c  6 lamada 5.2e-07  click  (103, 0.0015558677361369165, 4820.644999995198, 0.021016298847519765, 13.507766990336465)\n",
      "c  7 lamada 5.2e-07  click  (106, 0.0014313492492168088, 4502.788999995078, 0.022947377660213524, 16.03199056608276)\n",
      "c  8 lamada 5.2e-07  click  (114, 0.0013990476657994206, 4167.485999995039, 0.025506565706211556, 18.23137719302581)\n",
      "c  9 lamada 5.2e-07  click  (114, 0.001290848563081731, 3833.2459999954267, 0.027308184432871047, 21.155219298285733)\n",
      "c  10 lamada 5.2e-07  click  (119, 0.0012526843235504653, 3488.9469999957537, 0.029004968630302816, 23.15425210087602)\n",
      "c  11 lamada 5.2e-07  click  (121, 0.0011972019115653663, 3155.453999995979, 0.030555274119700604, 25.522239669454713)\n",
      "c  12 lamada 5.2e-07  click  (128, 0.0011962057847764124, 2818.76299999608, 0.03199804682027867, 26.749617187530617)\n",
      "c  13 lamada 5.2e-07  click  (132, 0.0011716669625421623, 2485.6099999961366, 0.033342588318869715, 28.457393939423195)\n",
      "c  14 lamada 5.2e-07  click  (134, 0.001136431097504092, 2163.5289999961105, 0.03458132691055174, 30.429761194058862)\n",
      "c  15 lamada 5.2e-07  click  (139, 0.0011300721132348518, 1842.4619999962738, 0.03575633531437736, 31.640755395710283)\n",
      "c  16 lamada 5.2e-07  click  (141, 0.0011044617119939841, 1541.9599999964769, 0.03679864331372608, 33.31817021279097)\n",
      "c  17 lamada 5.2e-07  click  (145, 0.0010970304520522035, 1244.3049999966922, 0.03779222243240637, 34.44956551726422)\n",
      "c  18 lamada 5.2e-07  click  (146, 0.0010693463803357454, 945.4799999969036, 0.038771379603339116, 36.25708219180203)\n",
      "c  1 lamada 5.3e-07  click  (52, 0.003675171390204255, 6136.167999999, 0.007860272810867947, 2.138750000018665)\n",
      "c  2 lamada 5.3e-07  click  (72, 0.002798507462686567, 5942.893999998133, 0.011620219216488299, 4.152291666691819)\n",
      "c  3 lamada 5.3e-07  click  (80, 0.002129925452609159, 5686.479999996964, 0.014587247071430835, 6.848712500036777)\n",
      "c  4 lamada 5.3e-07  click  (92, 0.0019131194244005906, 5412.342999996072, 0.016956850839148472, 8.863456521780552)\n",
      "c  5 lamada 5.3e-07  click  (98, 0.001707822874370458, 5131.652999995537, 0.01897621246718243, 11.111346938819688)\n",
      "c  6 lamada 5.3e-07  click  (103, 0.001567732115677321, 4839.347999995217, 0.02090248097419542, 13.332941747617854)\n",
      "c  7 lamada 5.3e-07  click  (106, 0.0014430603771016268, 4527.304999995092, 0.0228103873120245, 15.806952830233582)\n",
      "c  8 lamada 5.3e-07  click  (113, 0.0013977364091780568, 4195.870999995049, 0.025358055538436914, 18.142230088539225)\n",
      "c  9 lamada 5.3e-07  click  (114, 0.0013007165350737073, 3864.7059999954095, 0.027159257907039738, 20.880228070215708)\n",
      "c  10 lamada 5.3e-07  click  (119, 0.0012620504608075003, 3524.093999995735, 0.02885102501833966, 22.860436974825756)\n",
      "c  11 lamada 5.3e-07  click  (121, 0.0012063327484447281, 3195.564999995967, 0.030389745174709208, 25.191842975239936)\n",
      "c  12 lamada 5.3e-07  click  (128, 0.0012052957682818885, 2861.6179999960586, 0.03183782180459086, 26.414945312530783)\n",
      "c  13 lamada 5.3e-07  click  (132, 0.0011803524961772674, 2531.2519999961323, 0.03318318713061554, 28.11294696972626)\n",
      "c  14 lamada 5.3e-07  click  (133, 0.001136538428671532, 2213.426999996126, 0.03441840850441688, 30.28354135341257)\n",
      "c  15 lamada 5.3e-07  click  (139, 0.0011383924915234803, 1894.8509999962487, 0.03559053905754004, 31.26385611513492)\n",
      "c  16 lamada 5.3e-07  click  (141, 0.0011126103733162891, 1598.896999996449, 0.03662226483286031, 32.915624113500385)\n",
      "c  17 lamada 5.3e-07  click  (144, 0.001097009126506483, 1300.4969999966686, 0.03762585132481629, 34.298576388912046)\n",
      "c  18 lamada 5.3e-07  click  (146, 0.0010772125281292655, 1008.6189999968532, 0.03859211273843027, 35.8259041096106)\n"
     ]
    }
   ],
   "source": [
    "for lamda in np.arange(0.00000052,0.00000053,0.00000001):\n",
    "    for c in range(1,19,1):\n",
    "        bidprice=ortb1(c, predCTR_calibrated, lamda)\n",
    "        print('c ', c,'lamada',lamda, ' click ', evaluate(bidprice))"
   ]
  },
  {
   "cell_type": "code",
   "execution_count": null,
   "metadata": {
    "collapsed": true
   },
   "outputs": [],
   "source": []
  }
 ],
 "metadata": {
  "kernelspec": {
   "display_name": "Python [default]",
   "language": "python",
   "name": "python3"
  },
  "language_info": {
   "codemirror_mode": {
    "name": "ipython",
    "version": 3
   },
   "file_extension": ".py",
   "mimetype": "text/x-python",
   "name": "python",
   "nbconvert_exporter": "python",
   "pygments_lexer": "ipython3",
   "version": "3.5.3"
  }
 },
 "nbformat": 4,
 "nbformat_minor": 2
}
